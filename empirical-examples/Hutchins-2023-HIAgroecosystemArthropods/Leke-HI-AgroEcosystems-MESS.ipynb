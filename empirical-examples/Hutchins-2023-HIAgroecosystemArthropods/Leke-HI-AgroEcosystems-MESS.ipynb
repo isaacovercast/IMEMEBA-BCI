{
 "cells": [
  {
   "cell_type": "code",
   "execution_count": 30,
   "id": "8ab3911a",
   "metadata": {},
   "outputs": [
    {
     "name": "stdout",
     "output_type": "stream",
     "text": [
      "The autoreload extension is already loaded. To reload it, use:\n",
      "  %reload_ext autoreload\n"
     ]
    }
   ],
   "source": [
    "%load_ext autoreload\n",
    "%autoreload 2\n",
    "%matplotlib inline\n",
    "\n",
    "import glob\n",
    "import matplotlib.pyplot as plt\n",
    "import numpy as np\n",
    "import pandas as pd\n",
    "import iBioGen\n",
    "\n",
    "from scipy.stats import entropy\n",
    "from sklearn.ensemble import RandomForestClassifier, GradientBoostingClassifier\n",
    "from sklearn.ensemble import RandomForestRegressor, GradientBoostingRegressor\n",
    "from sklearn.inspection import permutation_importance\n",
    "from sklearn.model_selection import train_test_split, cross_val_score\n",
    "\n",
    "pd.set_option('display.max_columns', 50)\n"
   ]
  },
  {
   "cell_type": "markdown",
   "id": "3b4919ab",
   "metadata": {},
   "source": [
    "## Load pi data for each site"
   ]
  },
  {
   "cell_type": "code",
   "execution_count": 33,
   "id": "40fa557f",
   "metadata": {},
   "outputs": [
    {
     "name": "stdout",
     "output_type": "stream",
     "text": [
      "diversified-CO 52\n",
      "forest-MN 85\n",
      "diversified-NO 93\n",
      "simplified-JO 71\n",
      "diversified-KE 69\n",
      "simplified-JE 70\n",
      "forest-MK 88\n",
      "simplified-TK 48\n"
     ]
    }
   ],
   "source": [
    "pi_dict = {}\n",
    "for f in glob.glob(\"Leke-HI-pis/*.pis\"):\n",
    "    site = f.split(\"/\")[1].split(\".\")[0]\n",
    "    pi_dict[site] = np.loadtxt(f, delimiter=\",\")\n",
    "    print(site, len(pi_dict[site]))"
   ]
  },
  {
   "cell_type": "code",
   "execution_count": 35,
   "id": "309951d2",
   "metadata": {},
   "outputs": [
    {
     "name": "stdout",
     "output_type": "stream",
     "text": [
      "neutral 20000\n",
      "competition 20000\n",
      "filtering 20000\n",
      "CPU times: user 4min 27s, sys: 8.65 s, total: 4min 35s\n",
      "Wall time: 4min 32s\n"
     ]
    }
   ],
   "source": [
    "%%time\n",
    "prefix = \"/media/sdb1/isaac/Islands2030/MESS_sims/\"\n",
    "neutral_simfile = f\"{prefix}/sim-neutral-ntaxa300-SIMOUT.csv\"\n",
    "comp_simfile = f\"{prefix}/sim-comp-ntaxa300-SIMOUT.csv\"\n",
    "filt_simfile = f\"{prefix}/sim-filt-ntaxa300-SIMOUT.csv\"\n",
    "\n",
    "all_sims_params = []\n",
    "all_sims_locs = []\n",
    "for model, simfile in zip([\"neutral\", \"competition\", \"filtering\"],\n",
    "                            [neutral_simfile, comp_simfile, filt_simfile]):\n",
    "    params_df, loc_df, tre = iBioGen.util.load_local_sims(simfile, nrows=20000)\n",
    "    print(model, len(params_df))\n",
    "    params_df[\"assembly_model\"] = model\n",
    "    all_sims_params.append(params_df)\n",
    "    all_sims_locs.append(loc_df)\n",
    "\n",
    "unpruned_sims_params_df = pd.concat(all_sims_params, axis=0, ignore_index=True)\n",
    "unpruned_sims_locs_df = pd.concat(all_sims_locs, axis=0, ignore_index=True)\n"
   ]
  },
  {
   "cell_type": "markdown",
   "id": "a2ab2c93",
   "metadata": {},
   "source": [
    "## Prune sims with similar species richness as observed"
   ]
  },
  {
   "cell_type": "code",
   "execution_count": 36,
   "id": "60c9f963",
   "metadata": {},
   "outputs": [
    {
     "data": {
      "text/plain": [
       "5039"
      ]
     },
     "execution_count": 36,
     "metadata": {},
     "output_type": "execute_result"
    }
   ],
   "source": [
    "## Prune out simulations that have low species richness\n",
    "## This is very coarse\n",
    "#all_sims_locs_df = all_sims_locs_df[all_sims_params_df[\"local_S\"] < 100]\n",
    "#all_sims_params_df = all_sims_params_df[all_sims_params_df[\"local_S\"] < 100]\n",
    "\n",
    "min_S = 50\n",
    "max_S = 60\n",
    "all_sims_locs_df = unpruned_sims_locs_df[unpruned_sims_params_df[\"local_S\"].between(min_S, max_S)]\n",
    "all_sims_params_df = unpruned_sims_params_df[unpruned_sims_params_df[\"local_S\"].between(min_S, max_S)]\n",
    "len(all_sims_params_df)"
   ]
  },
  {
   "cell_type": "markdown",
   "id": "05b58716",
   "metadata": {},
   "source": [
    "## iBioGen model classification raw pi values"
   ]
  },
  {
   "cell_type": "code",
   "execution_count": 41,
   "id": "71f38a8e",
   "metadata": {},
   "outputs": [
    {
     "name": "stdout",
     "output_type": "stream",
     "text": [
      "5039 5039\n",
      "CPU times: user 3.27 s, sys: 305 ms, total: 3.57 s\n",
      "Wall time: 2.03 s\n"
     ]
    },
    {
     "data": {
      "text/html": [
       "<style>#sk-container-id-4 {color: black;background-color: white;}#sk-container-id-4 pre{padding: 0;}#sk-container-id-4 div.sk-toggleable {background-color: white;}#sk-container-id-4 label.sk-toggleable__label {cursor: pointer;display: block;width: 100%;margin-bottom: 0;padding: 0.3em;box-sizing: border-box;text-align: center;}#sk-container-id-4 label.sk-toggleable__label-arrow:before {content: \"▸\";float: left;margin-right: 0.25em;color: #696969;}#sk-container-id-4 label.sk-toggleable__label-arrow:hover:before {color: black;}#sk-container-id-4 div.sk-estimator:hover label.sk-toggleable__label-arrow:before {color: black;}#sk-container-id-4 div.sk-toggleable__content {max-height: 0;max-width: 0;overflow: hidden;text-align: left;background-color: #f0f8ff;}#sk-container-id-4 div.sk-toggleable__content pre {margin: 0.2em;color: black;border-radius: 0.25em;background-color: #f0f8ff;}#sk-container-id-4 input.sk-toggleable__control:checked~div.sk-toggleable__content {max-height: 200px;max-width: 100%;overflow: auto;}#sk-container-id-4 input.sk-toggleable__control:checked~label.sk-toggleable__label-arrow:before {content: \"▾\";}#sk-container-id-4 div.sk-estimator input.sk-toggleable__control:checked~label.sk-toggleable__label {background-color: #d4ebff;}#sk-container-id-4 div.sk-label input.sk-toggleable__control:checked~label.sk-toggleable__label {background-color: #d4ebff;}#sk-container-id-4 input.sk-hidden--visually {border: 0;clip: rect(1px 1px 1px 1px);clip: rect(1px, 1px, 1px, 1px);height: 1px;margin: -1px;overflow: hidden;padding: 0;position: absolute;width: 1px;}#sk-container-id-4 div.sk-estimator {font-family: monospace;background-color: #f0f8ff;border: 1px dotted black;border-radius: 0.25em;box-sizing: border-box;margin-bottom: 0.5em;}#sk-container-id-4 div.sk-estimator:hover {background-color: #d4ebff;}#sk-container-id-4 div.sk-parallel-item::after {content: \"\";width: 100%;border-bottom: 1px solid gray;flex-grow: 1;}#sk-container-id-4 div.sk-label:hover label.sk-toggleable__label {background-color: #d4ebff;}#sk-container-id-4 div.sk-serial::before {content: \"\";position: absolute;border-left: 1px solid gray;box-sizing: border-box;top: 0;bottom: 0;left: 50%;z-index: 0;}#sk-container-id-4 div.sk-serial {display: flex;flex-direction: column;align-items: center;background-color: white;padding-right: 0.2em;padding-left: 0.2em;position: relative;}#sk-container-id-4 div.sk-item {position: relative;z-index: 1;}#sk-container-id-4 div.sk-parallel {display: flex;align-items: stretch;justify-content: center;background-color: white;position: relative;}#sk-container-id-4 div.sk-item::before, #sk-container-id-4 div.sk-parallel-item::before {content: \"\";position: absolute;border-left: 1px solid gray;box-sizing: border-box;top: 0;bottom: 0;left: 50%;z-index: -1;}#sk-container-id-4 div.sk-parallel-item {display: flex;flex-direction: column;z-index: 1;position: relative;background-color: white;}#sk-container-id-4 div.sk-parallel-item:first-child::after {align-self: flex-end;width: 50%;}#sk-container-id-4 div.sk-parallel-item:last-child::after {align-self: flex-start;width: 50%;}#sk-container-id-4 div.sk-parallel-item:only-child::after {width: 0;}#sk-container-id-4 div.sk-dashed-wrapped {border: 1px dashed gray;margin: 0 0.4em 0.5em 0.4em;box-sizing: border-box;padding-bottom: 0.4em;background-color: white;}#sk-container-id-4 div.sk-label label {font-family: monospace;font-weight: bold;display: inline-block;line-height: 1.2em;}#sk-container-id-4 div.sk-label-container {text-align: center;}#sk-container-id-4 div.sk-container {/* jupyter's `normalize.less` sets `[hidden] { display: none; }` but bootstrap.min.css set `[hidden] { display: none !important; }` so we also need the `!important` here to be able to override the default hidden behavior on the sphinx rendered scikit-learn.org. See: https://github.com/scikit-learn/scikit-learn/issues/21755 */display: inline-block !important;position: relative;}#sk-container-id-4 div.sk-text-repr-fallback {display: none;}</style><div id=\"sk-container-id-4\" class=\"sk-top-container\"><div class=\"sk-text-repr-fallback\"><pre>RandomForestClassifier(min_samples_leaf=10, n_jobs=-1)</pre><b>In a Jupyter environment, please rerun this cell to show the HTML representation or trust the notebook. <br />On GitHub, the HTML representation is unable to render, please try loading this page with nbviewer.org.</b></div><div class=\"sk-container\" hidden><div class=\"sk-item\"><div class=\"sk-estimator sk-toggleable\"><input class=\"sk-toggleable__control sk-hidden--visually\" id=\"sk-estimator-id-4\" type=\"checkbox\" checked><label for=\"sk-estimator-id-4\" class=\"sk-toggleable__label sk-toggleable__label-arrow\">RandomForestClassifier</label><div class=\"sk-toggleable__content\"><pre>RandomForestClassifier(min_samples_leaf=10, n_jobs=-1)</pre></div></div></div></div></div>"
      ],
      "text/plain": [
       "RandomForestClassifier(min_samples_leaf=10, n_jobs=-1)"
      ]
     },
     "execution_count": 41,
     "metadata": {},
     "output_type": "execute_result"
    }
   ],
   "source": [
    "%%time\n",
    "# Empirical data must fit the shape of the simulated pis\n",
    "def zero_pad(pi_array, data):\n",
    "    len_diff = data.shape[1]-len(pi_array)\n",
    "    pi_array = np.pad(np.array(pi_array), (0, len_diff), mode=\"constant\")\n",
    "    return pi_array\n",
    "\n",
    "# Pull pis data out of the sim results and format it\n",
    "pis = all_sims_locs_df.T.apply(lambda y: sorted([x[\"pi\"] for x in y.dropna()], reverse=True))\n",
    "pis = pd.DataFrame.from_records(pis.values).fillna(0)\n",
    "\n",
    "y = all_sims_params_df[\"assembly_model\"]\n",
    "print(len(pis), len(y))\n",
    "\n",
    "X = pis\n",
    "\n",
    "#gbc = GradientBoostingClassifier(n_estimators=100, min_samples_leaf=10)\n",
    "gbc = RandomForestClassifier(n_estimators=100, min_samples_leaf=10, n_jobs=-1)\n",
    "gbc.fit(X, y)\n",
    "\n"
   ]
  },
  {
   "cell_type": "code",
   "execution_count": 42,
   "id": "c16e1edf",
   "metadata": {},
   "outputs": [
    {
     "name": "stdout",
     "output_type": "stream",
     "text": [
      "diversified-CO 52\n"
     ]
    },
    {
     "data": {
      "text/html": [
       "<div>\n",
       "<style scoped>\n",
       "    .dataframe tbody tr th:only-of-type {\n",
       "        vertical-align: middle;\n",
       "    }\n",
       "\n",
       "    .dataframe tbody tr th {\n",
       "        vertical-align: top;\n",
       "    }\n",
       "\n",
       "    .dataframe thead th {\n",
       "        text-align: right;\n",
       "    }\n",
       "</style>\n",
       "<table border=\"1\" class=\"dataframe\">\n",
       "  <thead>\n",
       "    <tr style=\"text-align: right;\">\n",
       "      <th></th>\n",
       "      <th>competition</th>\n",
       "      <th>filtering</th>\n",
       "      <th>neutral</th>\n",
       "    </tr>\n",
       "  </thead>\n",
       "  <tbody>\n",
       "    <tr>\n",
       "      <th>diversified-CO</th>\n",
       "      <td>0.028596</td>\n",
       "      <td>0.168369</td>\n",
       "      <td>0.803034</td>\n",
       "    </tr>\n",
       "  </tbody>\n",
       "</table>\n",
       "</div>"
      ],
      "text/plain": [
       "                competition  filtering   neutral\n",
       "diversified-CO     0.028596   0.168369  0.803034"
      ]
     },
     "execution_count": 42,
     "metadata": {},
     "output_type": "execute_result"
    }
   ],
   "source": [
    "raw_pi_res = {}\n",
    "\n",
    "for site, pi in pi_dict.items():\n",
    "    print(site, len(pi))\n",
    "    result = gbc.predict_proba(zero_pad(pi, X).reshape(1, -1))\n",
    "    raw_pi_res[site] = result[0]\n",
    "    break\n",
    "\n",
    "raw_pi_res = pd.DataFrame(raw_pi_res, index=gbc.classes_).T\n",
    "raw_pi_res"
   ]
  },
  {
   "cell_type": "markdown",
   "id": "b588c8e3",
   "metadata": {},
   "source": [
    "### iBiogen model classification with scaled pi values"
   ]
  },
  {
   "cell_type": "code",
   "execution_count": 43,
   "id": "0c7ebba4",
   "metadata": {},
   "outputs": [
    {
     "name": "stdout",
     "output_type": "stream",
     "text": [
      "CPU times: user 15.8 s, sys: 34.7 ms, total: 15.8 s\n",
      "Wall time: 15.8 s\n"
     ]
    },
    {
     "data": {
      "text/html": [
       "<div>\n",
       "<style scoped>\n",
       "    .dataframe tbody tr th:only-of-type {\n",
       "        vertical-align: middle;\n",
       "    }\n",
       "\n",
       "    .dataframe tbody tr th {\n",
       "        vertical-align: top;\n",
       "    }\n",
       "\n",
       "    .dataframe thead th {\n",
       "        text-align: right;\n",
       "    }\n",
       "</style>\n",
       "<table border=\"1\" class=\"dataframe\">\n",
       "  <thead>\n",
       "    <tr style=\"text-align: right;\">\n",
       "      <th></th>\n",
       "      <th>competition</th>\n",
       "      <th>filtering</th>\n",
       "      <th>neutral</th>\n",
       "    </tr>\n",
       "  </thead>\n",
       "  <tbody>\n",
       "    <tr>\n",
       "      <th>diversified-CO</th>\n",
       "      <td>0.018316</td>\n",
       "      <td>0.040775</td>\n",
       "      <td>0.940909</td>\n",
       "    </tr>\n",
       "  </tbody>\n",
       "</table>\n",
       "</div>"
      ],
      "text/plain": [
       "                competition  filtering   neutral\n",
       "diversified-CO     0.018316   0.040775  0.940909"
      ]
     },
     "execution_count": 43,
     "metadata": {},
     "output_type": "execute_result"
    }
   ],
   "source": [
    "%%time\n",
    "X = pis.div(np.sum(pis, axis=1), axis=0)\n",
    "\n",
    "gbc = GradientBoostingClassifier(n_estimators=100, min_samples_leaf=10)\n",
    "gbc.fit(X, y)\n",
    "\n",
    "scaled_pi_res = {}\n",
    "for site, pi in pi_dict.items():\n",
    "    pi = zero_pad(pi, X)/np.sum(pi)\n",
    "    result = gbc.predict_proba(pi.reshape(1, -1))\n",
    "    scaled_pi_res[site] = result[0]\n",
    "    break\n",
    "scaled_pi_res = pd.DataFrame(scaled_pi_res, index=gbc.classes_).T\n",
    "scaled_pi_res"
   ]
  },
  {
   "cell_type": "markdown",
   "id": "2ac2b661",
   "metadata": {},
   "source": [
    "### iBioGen model classification with hill numbers"
   ]
  },
  {
   "cell_type": "code",
   "execution_count": 25,
   "id": "ab309cf9",
   "metadata": {
    "collapsed": true
   },
   "outputs": [
    {
     "data": {
      "text/plain": [
       "{'diversified-CO': [52.000000000000014,\n",
       "  36.783068148449956,\n",
       "  29.5968709971414,\n",
       "  26.19097633509255],\n",
       " 'forest-MN': [84.99999999999999,\n",
       "  60.37886232796552,\n",
       "  50.22409367043723,\n",
       "  45.228942279801714],\n",
       " 'diversified-NO': [92.99999999999996,\n",
       "  70.3732507508443,\n",
       "  59.70183117022175,\n",
       "  54.37943771044167],\n",
       " 'simplified-JO': [70.99999999999997,\n",
       "  51.72185754633277,\n",
       "  43.50041967077615,\n",
       "  39.61346736395563],\n",
       " 'diversified-KE': [68.99999999999999,\n",
       "  50.097648744627485,\n",
       "  40.91239107427376,\n",
       "  36.183044914433125],\n",
       " 'simplified-JE': [69.99999999999997,\n",
       "  53.321242025138986,\n",
       "  46.015778402567975,\n",
       "  42.47139753031754],\n",
       " 'forest-MK': [87.99999999999999,\n",
       "  67.50729964298549,\n",
       "  58.68508435307615,\n",
       "  54.032500326928144],\n",
       " 'simplified-TK': [48.0,\n",
       "  37.908643922764,\n",
       "  32.874667473117135,\n",
       "  29.74994132684371]}"
      ]
     },
     "execution_count": 25,
     "metadata": {},
     "output_type": "execute_result"
    }
   ],
   "source": [
    "def hill_numbers(dat):\n",
    "    hvals = []\n",
    "    for i in range(4):\n",
    "        hval = iBioGen.util._generalized_hill_number(abunds=dat,\n",
    "                                                     order=i)\n",
    "        if i == 1: hval = np.exp(entropy(dat))\n",
    "        hvals.append(hval)\n",
    "    return hvals\n",
    "\n",
    "hill_dict = {}\n",
    "for site, pi in pi_dict.items():\n",
    "    hill_dict[site] = hill_numbers(pi)\n",
    "hill_dict"
   ]
  },
  {
   "cell_type": "code",
   "execution_count": 79,
   "id": "35c81db2",
   "metadata": {
    "collapsed": true
   },
   "outputs": [
    {
     "name": "stdout",
     "output_type": "stream",
     "text": [
      "CPU times: user 22.3 s, sys: 29.2 ms, total: 22.3 s\n",
      "Wall time: 22.3 s\n"
     ]
    },
    {
     "name": "stderr",
     "output_type": "stream",
     "text": [
      "/home/isaac/miniconda3/envs/iBioGen/lib/python3.11/site-packages/sklearn/base.py:439: UserWarning: X does not have valid feature names, but GradientBoostingClassifier was fitted with feature names\n",
      "  warnings.warn(\n",
      "/home/isaac/miniconda3/envs/iBioGen/lib/python3.11/site-packages/sklearn/base.py:439: UserWarning: X does not have valid feature names, but GradientBoostingClassifier was fitted with feature names\n",
      "  warnings.warn(\n",
      "/home/isaac/miniconda3/envs/iBioGen/lib/python3.11/site-packages/sklearn/base.py:439: UserWarning: X does not have valid feature names, but GradientBoostingClassifier was fitted with feature names\n",
      "  warnings.warn(\n",
      "/home/isaac/miniconda3/envs/iBioGen/lib/python3.11/site-packages/sklearn/base.py:439: UserWarning: X does not have valid feature names, but GradientBoostingClassifier was fitted with feature names\n",
      "  warnings.warn(\n",
      "/home/isaac/miniconda3/envs/iBioGen/lib/python3.11/site-packages/sklearn/base.py:439: UserWarning: X does not have valid feature names, but GradientBoostingClassifier was fitted with feature names\n",
      "  warnings.warn(\n",
      "/home/isaac/miniconda3/envs/iBioGen/lib/python3.11/site-packages/sklearn/base.py:439: UserWarning: X does not have valid feature names, but GradientBoostingClassifier was fitted with feature names\n",
      "  warnings.warn(\n",
      "/home/isaac/miniconda3/envs/iBioGen/lib/python3.11/site-packages/sklearn/base.py:439: UserWarning: X does not have valid feature names, but GradientBoostingClassifier was fitted with feature names\n",
      "  warnings.warn(\n",
      "/home/isaac/miniconda3/envs/iBioGen/lib/python3.11/site-packages/sklearn/base.py:439: UserWarning: X does not have valid feature names, but GradientBoostingClassifier was fitted with feature names\n",
      "  warnings.warn(\n"
     ]
    },
    {
     "data": {
      "text/html": [
       "<div>\n",
       "<style scoped>\n",
       "    .dataframe tbody tr th:only-of-type {\n",
       "        vertical-align: middle;\n",
       "    }\n",
       "\n",
       "    .dataframe tbody tr th {\n",
       "        vertical-align: top;\n",
       "    }\n",
       "\n",
       "    .dataframe thead th {\n",
       "        text-align: right;\n",
       "    }\n",
       "</style>\n",
       "<table border=\"1\" class=\"dataframe\">\n",
       "  <thead>\n",
       "    <tr style=\"text-align: right;\">\n",
       "      <th></th>\n",
       "      <th>competition</th>\n",
       "      <th>filtering</th>\n",
       "      <th>neutral</th>\n",
       "    </tr>\n",
       "  </thead>\n",
       "  <tbody>\n",
       "    <tr>\n",
       "      <th>diversified-CO</th>\n",
       "      <td>0.113204</td>\n",
       "      <td>0.013553</td>\n",
       "      <td>0.873242</td>\n",
       "    </tr>\n",
       "    <tr>\n",
       "      <th>forest-MN</th>\n",
       "      <td>0.981032</td>\n",
       "      <td>0.002276</td>\n",
       "      <td>0.016692</td>\n",
       "    </tr>\n",
       "    <tr>\n",
       "      <th>diversified-NO</th>\n",
       "      <td>0.981032</td>\n",
       "      <td>0.002276</td>\n",
       "      <td>0.016692</td>\n",
       "    </tr>\n",
       "    <tr>\n",
       "      <th>simplified-JO</th>\n",
       "      <td>0.981032</td>\n",
       "      <td>0.002276</td>\n",
       "      <td>0.016692</td>\n",
       "    </tr>\n",
       "    <tr>\n",
       "      <th>diversified-KE</th>\n",
       "      <td>0.981032</td>\n",
       "      <td>0.002276</td>\n",
       "      <td>0.016692</td>\n",
       "    </tr>\n",
       "    <tr>\n",
       "      <th>simplified-JE</th>\n",
       "      <td>0.981032</td>\n",
       "      <td>0.002276</td>\n",
       "      <td>0.016692</td>\n",
       "    </tr>\n",
       "    <tr>\n",
       "      <th>forest-MK</th>\n",
       "      <td>0.981032</td>\n",
       "      <td>0.002276</td>\n",
       "      <td>0.016692</td>\n",
       "    </tr>\n",
       "    <tr>\n",
       "      <th>simplified-TK</th>\n",
       "      <td>0.989503</td>\n",
       "      <td>0.001462</td>\n",
       "      <td>0.009035</td>\n",
       "    </tr>\n",
       "  </tbody>\n",
       "</table>\n",
       "</div>"
      ],
      "text/plain": [
       "                competition  filtering   neutral\n",
       "diversified-CO     0.113204   0.013553  0.873242\n",
       "forest-MN          0.981032   0.002276  0.016692\n",
       "diversified-NO     0.981032   0.002276  0.016692\n",
       "simplified-JO      0.981032   0.002276  0.016692\n",
       "diversified-KE     0.981032   0.002276  0.016692\n",
       "simplified-JE      0.981032   0.002276  0.016692\n",
       "forest-MK          0.981032   0.002276  0.016692\n",
       "simplified-TK      0.989503   0.001462  0.009035"
      ]
     },
     "execution_count": 79,
     "metadata": {},
     "output_type": "execute_result"
    }
   ],
   "source": [
    "%%time\n",
    "X = all_sims_params_df[[\"local_S\", \"pi_h1\", \"pi_h2\", \"pi_h3\"]]\n",
    "\n",
    "gbc = GradientBoostingClassifier(n_estimators=500, min_samples_leaf=10)\n",
    "#gbc = RandomForestClassifier(**rf_params)\n",
    "\n",
    "gbc.fit(X, y)\n",
    "\n",
    "raw_hill_res = {}\n",
    "for site, hills in hill_dict.items():\n",
    "    result = gbc.predict_proba(np.array(hills).reshape(1, -1))\n",
    "    raw_hill_res[site] = result[0]\n",
    "raw_hill_res = pd.DataFrame(raw_hill_res, index=gbc.classes_).T\n",
    "raw_hill_res"
   ]
  },
  {
   "cell_type": "markdown",
   "id": "9266be8f",
   "metadata": {},
   "source": [
    "## Do all intelligently pruning to reasonable S"
   ]
  },
  {
   "cell_type": "code",
   "execution_count": 87,
   "id": "642e0ea2",
   "metadata": {},
   "outputs": [
    {
     "name": "stdout",
     "output_type": "stream",
     "text": [
      "diversified-CO 52\n",
      "  nsims\tneutral 2374\tfiltering 3818\tcompetition 3413\t\n",
      "  Training ML\n",
      "forest-MN 85\n",
      "  nsims\tneutral 3141\tfiltering 2940\tcompetition 2164\t\n",
      "  Training ML\n",
      "diversified-NO 93\n",
      "  nsims\tneutral 3072\tfiltering 2700\tcompetition 1965\t\n",
      "  Training ML\n",
      "simplified-JO 71\n",
      "  nsims\tneutral 3102\tfiltering 3337\tcompetition 2717\t\n",
      "  Training ML\n",
      "diversified-KE 69\n",
      "  nsims\tneutral 3050\tfiltering 3401\tcompetition 2765\t\n",
      "  Training ML\n",
      "simplified-JE 70\n",
      "  nsims\tneutral 3069\tfiltering 3365\tcompetition 2751\t\n",
      "  Training ML\n",
      "forest-MK 88\n",
      "  nsims\tneutral 3125\tfiltering 2877\tcompetition 2086\t\n",
      "  Training ML\n",
      "simplified-TK 48\n",
      "  nsims\tneutral 2088\tfiltering 3870\tcompetition 3672\t\n",
      "  Training ML\n",
      "CPU times: user 4min 7s, sys: 7.98 s, total: 4min 15s\n",
      "Wall time: 40.8 s\n"
     ]
    },
    {
     "data": {
      "text/html": [
       "<div>\n",
       "<style scoped>\n",
       "    .dataframe tbody tr th:only-of-type {\n",
       "        vertical-align: middle;\n",
       "    }\n",
       "\n",
       "    .dataframe tbody tr th {\n",
       "        vertical-align: top;\n",
       "    }\n",
       "\n",
       "    .dataframe thead th {\n",
       "        text-align: right;\n",
       "    }\n",
       "</style>\n",
       "<table border=\"1\" class=\"dataframe\">\n",
       "  <thead>\n",
       "    <tr style=\"text-align: right;\">\n",
       "      <th></th>\n",
       "      <th>competition</th>\n",
       "      <th>filtering</th>\n",
       "      <th>neutral</th>\n",
       "    </tr>\n",
       "  </thead>\n",
       "  <tbody>\n",
       "    <tr>\n",
       "      <th>diversified-CO</th>\n",
       "      <td>0.111623</td>\n",
       "      <td>0.066736</td>\n",
       "      <td>0.821641</td>\n",
       "    </tr>\n",
       "    <tr>\n",
       "      <th>forest-MN</th>\n",
       "      <td>0.224386</td>\n",
       "      <td>0.020296</td>\n",
       "      <td>0.755318</td>\n",
       "    </tr>\n",
       "    <tr>\n",
       "      <th>diversified-NO</th>\n",
       "      <td>0.571387</td>\n",
       "      <td>0.007664</td>\n",
       "      <td>0.420949</td>\n",
       "    </tr>\n",
       "    <tr>\n",
       "      <th>simplified-JO</th>\n",
       "      <td>0.214151</td>\n",
       "      <td>0.008902</td>\n",
       "      <td>0.776947</td>\n",
       "    </tr>\n",
       "    <tr>\n",
       "      <th>diversified-KE</th>\n",
       "      <td>0.369872</td>\n",
       "      <td>0.005500</td>\n",
       "      <td>0.624627</td>\n",
       "    </tr>\n",
       "    <tr>\n",
       "      <th>simplified-JE</th>\n",
       "      <td>0.340487</td>\n",
       "      <td>0.001086</td>\n",
       "      <td>0.658427</td>\n",
       "    </tr>\n",
       "    <tr>\n",
       "      <th>forest-MK</th>\n",
       "      <td>0.834034</td>\n",
       "      <td>0.000222</td>\n",
       "      <td>0.165744</td>\n",
       "    </tr>\n",
       "    <tr>\n",
       "      <th>simplified-TK</th>\n",
       "      <td>0.724441</td>\n",
       "      <td>0.012640</td>\n",
       "      <td>0.262918</td>\n",
       "    </tr>\n",
       "  </tbody>\n",
       "</table>\n",
       "</div>"
      ],
      "text/plain": [
       "                competition  filtering   neutral\n",
       "diversified-CO     0.111623   0.066736  0.821641\n",
       "forest-MN          0.224386   0.020296  0.755318\n",
       "diversified-NO     0.571387   0.007664  0.420949\n",
       "simplified-JO      0.214151   0.008902  0.776947\n",
       "diversified-KE     0.369872   0.005500  0.624627\n",
       "simplified-JE      0.340487   0.001086  0.658427\n",
       "forest-MK          0.834034   0.000222  0.165744\n",
       "simplified-TK      0.724441   0.012640  0.262918"
      ]
     },
     "execution_count": 87,
     "metadata": {},
     "output_type": "execute_result"
    }
   ],
   "source": [
    "%%time\n",
    "scale_pi = True\n",
    "S_tol = 10\n",
    "raw_pi_res = {}\n",
    "\n",
    "for site, pi in pi_dict.items():\n",
    "    obs_S = len(pi)\n",
    "    print(site, obs_S)\n",
    "\n",
    "    min_S = obs_S - S_tol\n",
    "    max_S = obs_S + S_tol\n",
    "    all_sims_locs_df = unpruned_sims_locs_df[unpruned_sims_params_df[\"local_S\"].between(min_S, max_S)]\n",
    "    all_sims_params_df = unpruned_sims_params_df[unpruned_sims_params_df[\"local_S\"].between(min_S, max_S)]\n",
    "    print(\"  nsims\", end=\"\\t\")\n",
    "    for model in [\"neutral\", \"filtering\", \"competition\"]:\n",
    "        print(model, np.sum(all_sims_params_df[\"assembly_model\"] == model), end=\"\\t\")\n",
    "    print(\"\")\n",
    "    # Pull pis data out of the sim results and format it\n",
    "    pis = all_sims_locs_df.T.apply(lambda y: sorted([x[\"pi\"] for x in y.dropna()], reverse=True))\n",
    "    pis = pd.DataFrame.from_records(pis.values).fillna(0)\n",
    "\n",
    "    y = all_sims_params_df[\"assembly_model\"]\n",
    "    if scale_pi:\n",
    "        X = pis.div(np.sum(pis, axis=1), axis=0)\n",
    "        pi = zero_pad(pi, X)/np.sum(pi)\n",
    "    else:\n",
    "        X = pis\n",
    "        pi = zero_pad(pi, X)\n",
    "    \n",
    "    print(\"  Training ML\")\n",
    "    #gbc = GradientBoostingClassifier(n_estimators=100, min_samples_leaf=10)\n",
    "    gbc = RandomForestClassifier(**rf_params)\n",
    "    gbc.fit(X, y)\n",
    "\n",
    "    result = gbc.predict_proba(pi.reshape(1, -1))\n",
    "    raw_pi_res[site] = result[0]\n",
    "\n",
    "raw_pi_res = pd.DataFrame(raw_pi_res, index=gbc.classes_).T\n",
    "raw_pi_res"
   ]
  },
  {
   "cell_type": "code",
   "execution_count": 53,
   "id": "9185a672",
   "metadata": {},
   "outputs": [
    {
     "data": {
      "text/html": [
       "<div>\n",
       "<style scoped>\n",
       "    .dataframe tbody tr th:only-of-type {\n",
       "        vertical-align: middle;\n",
       "    }\n",
       "\n",
       "    .dataframe tbody tr th {\n",
       "        vertical-align: top;\n",
       "    }\n",
       "\n",
       "    .dataframe thead th {\n",
       "        text-align: right;\n",
       "    }\n",
       "</style>\n",
       "<table border=\"1\" class=\"dataframe\">\n",
       "  <thead>\n",
       "    <tr style=\"text-align: right;\">\n",
       "      <th></th>\n",
       "      <th>competition</th>\n",
       "      <th>filtering</th>\n",
       "      <th>neutral</th>\n",
       "    </tr>\n",
       "  </thead>\n",
       "  <tbody>\n",
       "    <tr>\n",
       "      <th>diversified-CO</th>\n",
       "      <td>0.075502</td>\n",
       "      <td>0.013446</td>\n",
       "      <td>0.911052</td>\n",
       "    </tr>\n",
       "    <tr>\n",
       "      <th>forest-MN</th>\n",
       "      <td>0.328942</td>\n",
       "      <td>0.003865</td>\n",
       "      <td>0.667193</td>\n",
       "    </tr>\n",
       "    <tr>\n",
       "      <th>diversified-NO</th>\n",
       "      <td>0.703014</td>\n",
       "      <td>0.006853</td>\n",
       "      <td>0.290133</td>\n",
       "    </tr>\n",
       "    <tr>\n",
       "      <th>simplified-JO</th>\n",
       "      <td>0.452398</td>\n",
       "      <td>0.002871</td>\n",
       "      <td>0.544731</td>\n",
       "    </tr>\n",
       "    <tr>\n",
       "      <th>diversified-KE</th>\n",
       "      <td>0.515783</td>\n",
       "      <td>0.010947</td>\n",
       "      <td>0.473271</td>\n",
       "    </tr>\n",
       "    <tr>\n",
       "      <th>simplified-JE</th>\n",
       "      <td>0.731779</td>\n",
       "      <td>0.000417</td>\n",
       "      <td>0.267804</td>\n",
       "    </tr>\n",
       "    <tr>\n",
       "      <th>forest-MK</th>\n",
       "      <td>0.816806</td>\n",
       "      <td>0.000000</td>\n",
       "      <td>0.183194</td>\n",
       "    </tr>\n",
       "    <tr>\n",
       "      <th>simplified-TK</th>\n",
       "      <td>0.812651</td>\n",
       "      <td>0.015042</td>\n",
       "      <td>0.172307</td>\n",
       "    </tr>\n",
       "  </tbody>\n",
       "</table>\n",
       "</div>"
      ],
      "text/plain": [
       "                competition  filtering   neutral\n",
       "diversified-CO     0.075502   0.013446  0.911052\n",
       "forest-MN          0.328942   0.003865  0.667193\n",
       "diversified-NO     0.703014   0.006853  0.290133\n",
       "simplified-JO      0.452398   0.002871  0.544731\n",
       "diversified-KE     0.515783   0.010947  0.473271\n",
       "simplified-JE      0.731779   0.000417  0.267804\n",
       "forest-MK          0.816806   0.000000  0.183194\n",
       "simplified-TK      0.812651   0.015042  0.172307"
      ]
     },
     "execution_count": 53,
     "metadata": {},
     "output_type": "execute_result"
    }
   ],
   "source": [
    "raw_pi_res"
   ]
  },
  {
   "cell_type": "code",
   "execution_count": 71,
   "id": "b9af4262",
   "metadata": {},
   "outputs": [],
   "source": [
    "rf_params = {'bootstrap': True,\n",
    " 'ccp_alpha': 0.0,\n",
    " 'max_depth': 70,\n",
    " 'max_leaf_nodes': None,\n",
    " 'max_samples': None,\n",
    " 'min_impurity_decrease': 0.0,\n",
    " 'min_samples_leaf': 4,\n",
    " 'min_samples_split': 5,\n",
    " 'min_weight_fraction_leaf': 0.0,\n",
    " 'n_estimators': 500,\n",
    " 'n_jobs': -1,\n",
    " 'oob_score': False,\n",
    " 'random_state': None,\n",
    " 'verbose': 0,\n",
    " 'warm_start': False}"
   ]
  }
 ],
 "metadata": {
  "kernelspec": {
   "display_name": "Python 3 (ipykernel)",
   "language": "python",
   "name": "python3"
  },
  "language_info": {
   "codemirror_mode": {
    "name": "ipython",
    "version": 3
   },
   "file_extension": ".py",
   "mimetype": "text/x-python",
   "name": "python",
   "nbconvert_exporter": "python",
   "pygments_lexer": "ipython3",
   "version": "3.11.4"
  }
 },
 "nbformat": 4,
 "nbformat_minor": 5
}
