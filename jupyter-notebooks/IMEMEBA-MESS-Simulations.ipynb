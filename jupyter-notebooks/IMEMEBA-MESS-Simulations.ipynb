{
 "cells": [
  {
   "cell_type": "code",
   "execution_count": 2,
   "id": "f4000856",
   "metadata": {},
   "outputs": [
    {
     "name": "stdout",
     "output_type": "stream",
     "text": [
      "The autoreload extension is already loaded. To reload it, use:\n",
      "  %reload_ext autoreload\n",
      "0.3.0 2.0.5\n"
     ]
    }
   ],
   "source": [
    "%load_ext autoreload\n",
    "%autoreload 2\n",
    "%matplotlib inline\n",
    "import glob\n",
    "import ipcoal\n",
    "import matplotlib.pyplot as plt\n",
    "import numpy as np\n",
    "import os\n",
    "import pandas as pd\n",
    "import toytree\n",
    "\n",
    "import iBioGen\n",
    "\n",
    "import sys\n",
    "sys.path.append('../')\n",
    "import BCI\n",
    "\n",
    "print(ipcoal.__version__, toytree.__version__)"
   ]
  },
  {
   "cell_type": "code",
   "execution_count": 379,
   "id": "20ecdacf",
   "metadata": {},
   "outputs": [
    {
     "name": "stdout",
     "output_type": "stream",
     "text": [
      "------- iBioGen params file (v.0.0.9)-------------------------------------------\n",
      "bcitest              ## [0] [simulation_name]: The name of this simulation scenario\n",
      "./default_iBioGen    ## [1] [project_dir]: Where to save files\n",
      "1.0                  ## [2] [birth_rate]: Speciation rate\n",
      "taxa                 ## [3] [meta_stop_criterion]: Whether to stop metacommunity on ntaxa or time\n",
      "100                  ## [4] [ntaxa]: Number of taxa to simulate if stop is `ntaxa`\n",
      "4                    ## [5] [time]: Amount of time to simulate if stop is `time`\n",
      "abundance            ## [6] [process]: Whether to evolve `abundance` or growth `rate` via BM\n",
      "True                 ## [7] [ClaDS]: Whether to allow speciation rate change a la ClaDS\n",
      "50000                ## [8] [abundance_mean]: Ancestral abundance at time 0\n",
      "0.1                  ## [9] [abundance_sigma]: Rate at which abundance changes if process is `abundance`\n",
      "0                    ## [10] [growth_rate_mean]: Ancestral population growth rate at time 0.\n",
      "0.01                 ## [11] [growth_rate_sigma]: Rate at which growth rate changes if process is `rate`\n",
      "0.1                  ## [12] [ClaDS_sigma]: Rate at which speciation rate changes if ClaDS is True\n",
      "0.9                  ## [13] [ClaDS_alpha]: Rate shift if ClaDS is True\n",
      "400                  ## [14] [sequence_length]: Length of the genomic region simulated, in base pairs\n",
      "5e-08                ## [15] [mutation_rate]: Mutation rate per base per generation\n",
      "5                    ## [16] [sample_size]: Number of samples to draw for calculating genetic diversity\n",
      "None                 ## [17] [abundance_scaling]: Scaling abundance to Ne (None, log, ln or a ratio)\n",
      "5000                 ## [18] [J]: Number of individuals in the local community\n",
      "0.005                ## [19] [colrate]: Rate of colonization into the local community (% / birth event)\n",
      "neutral              ## [20] [assembly_model]: Selecting neutral or non-neutral assembly processes\n",
      "2                    ## [21] [ecological_strength]: Impact of competition or filtering on fitness\n",
      "1                    ## [22] [generation_time]: Generation time of local community taxa (in years)\n",
      "time                 ## [23] [local_stop_criterion]: Stop local community on time or equilibrium\n",
      "100                  ## [24] [local_stop_time]: Local community simulation duration (in generations)\n",
      "100                  ## [25] [tau_max]: Duration of anagenetic speciation (in generations)\n",
      "10                   ## [26] [gene_flow_effect]: Damping effect of gene flow (in generations) on tau_max\n",
      "1000                 ## [27] [Ne_scaling]: Scaling individuals to demes in local community\n",
      "False                ## [28] [rm_duplicates]: Deduplicate seqs before calculating local community pi\n",
      "\n"
     ]
    }
   ],
   "source": [
    "model = iBioGen.Core(\"bcitest\")\n",
    "model.set_param(\"birth_rate\", 1)\n",
    "model.set_param(\"ntaxa\", 100)\n",
    "model.set_param(\"J\", 5000)\n",
    "model.set_param(\"sequence_length\", 400)\n",
    "model.set_param(\"mutation_rate\", 5e-8)\n",
    "model.set_param(\"sample_size\", 5)\n",
    "print(model.get_params())"
   ]
  },
  {
   "cell_type": "code",
   "execution_count": 380,
   "id": "76f8f609",
   "metadata": {},
   "outputs": [
    {
     "name": "stdout",
     "output_type": "stream",
     "text": [
      "    Generating 1 simulation(s).\n",
      "  [####################] 100%  Finished 1 simulations in   0:00:00 | \n",
      " "
     ]
    }
   ],
   "source": [
    "sim_fastas = {}\n",
    "for stop_gens in np.linspace(1000, 9999, 1):\n",
    "    model.set_param(\"local_stop_time\", stop_gens)\n",
    "    model.simulate(nsims=1)\n",
    "    fasta_data = model.l.as_fasta()\n",
    "    fasta_outfile = os.path.join(model.paramsdict[\"project_dir\"], f\"gen{stop_gens}.fasta\")\n",
    "    with open(fasta_outfile, 'w') as outfile:\n",
    "        outfile.write(\"\\n\".join(fasta_data))\n",
    "    sim_fastas[stop_gens] = fasta_outfile"
   ]
  },
  {
   "cell_type": "code",
   "execution_count": 381,
   "id": "6e5b1c3e",
   "metadata": {},
   "outputs": [
    {
     "name": "stdout",
     "output_type": "stream",
     "text": [
      "[88, 32, 19, 16, 11, 7, 5, 3, 2, 1, 1, 1, 1, 1, 1, 1, 1, 1, 1, 1, 1, 1, 1, 1, 1, 1, 1, 1, 1, 1]\n",
      "Aligning..\n"
     ]
    }
   ],
   "source": [
    "bcis = {}\n",
    "for gen, fas in sim_fastas.items():\n",
    "    bci = BCI.BCI(data=fas, project_dir=\"./default_iBioGen\")\n",
    "    bci._min_clust_threshold = 70\n",
    "    bci.run(verbose=True)\n",
    "    bcis[gen] = bci"
   ]
  },
  {
   "cell_type": "code",
   "execution_count": 39,
   "id": "d204ec46",
   "metadata": {
    "collapsed": true
   },
   "outputs": [
    {
     "data": {
      "text/plain": [
       "[{'m37-1-0': 0.011666666666666665,\n",
       "  'm31-1-0': 0.022499999999999996,\n",
       "  'm7-1-0': 0.009999999999999998,\n",
       "  'm38-1-0': 0.012000000000000002,\n",
       "  'm9-1-0': 0.012,\n",
       "  'm19-1-0': 0.04691765878726361,\n",
       "  'm37-1-1': 0.005,\n",
       "  'm34-1-0': 0.014999999999999998,\n",
       "  'm7-1-1': 0.0075},\n",
       " {'m36-2-0': 0.009999999999999998,\n",
       "  'm14-2-0': 0.06666196203871375,\n",
       "  'm36-2-1': 0.0075,\n",
       "  'm36-1-0': 0.0125,\n",
       "  'm52-2-0': 0.01583333333333333,\n",
       "  'm32-2-1': 0.00125},\n",
       " {'m36-2-0': 0.009999999999999998,\n",
       "  'm14-2-0': 0.08353513917717689,\n",
       "  'm36-2-1': 0.0075,\n",
       "  'm47-2-0': 0.010833333333333332,\n",
       "  'm36-1-0': 0.0125,\n",
       "  'm52-2-0': 0.01583333333333333,\n",
       "  'm32-2-1': 0.00125}]"
      ]
     },
     "execution_count": 39,
     "metadata": {},
     "output_type": "execute_result"
    }
   ],
   "source": [
    "[x.pis for x in bcis.values()]"
   ]
  },
  {
   "cell_type": "code",
   "execution_count": 382,
   "id": "634c381b",
   "metadata": {},
   "outputs": [
    {
     "data": {
      "text/plain": [
       "(<Figure size 800x800 with 1 Axes>, <AxesSubplot:>)"
      ]
     },
     "execution_count": 382,
     "metadata": {},
     "output_type": "execute_result"
    },
    {
     "data": {
      "image/png": "[encoded data removed]",
      "text/plain": [
       "<Figure size 800x800 with 1 Axes>"
      ]
     },
     "metadata": {},
     "output_type": "display_data"
    }
   ],
   "source": [
    "BCI.plot_multi(list(bcis.values()), log=True)"
   ]
  },
  {
   "cell_type": "code",
   "execution_count": 387,
   "id": "cc96cb4b",
   "metadata": {},
   "outputs": [
    {
     "data": {
      "text/plain": [
       "[<matplotlib.lines.Line2D at 0x7fd5021f4350>]"
      ]
     },
     "execution_count": 387,
     "metadata": {},
     "output_type": "execute_result"
    },
    {
     "data": {
      "image/png": "[encoded data removed]",
      "text/plain": [
       "<Figure size 800x800 with 1 Axes>"
      ]
     },
     "metadata": {},
     "output_type": "display_data"
    }
   ],
   "source": [
    "fig, ax = BCI.plot_multi(list(bcis.values()), log=True, plot_pis=True)\n",
    "ax.plot(sorted(model.l.community[\"pi\"], reverse=True), label='sim')"
   ]
  },
  {
   "cell_type": "code",
   "execution_count": 347,
   "id": "d1b0e024",
   "metadata": {},
   "outputs": [
    {
     "data": {
      "text/html": [
       "<div>\n",
       "<style scoped>\n",
       "    .dataframe tbody tr th:only-of-type {\n",
       "        vertical-align: middle;\n",
       "    }\n",
       "\n",
       "    .dataframe tbody tr th {\n",
       "        vertical-align: top;\n",
       "    }\n",
       "\n",
       "    .dataframe thead th {\n",
       "        text-align: right;\n",
       "    }\n",
       "</style>\n",
       "<table border=\"1\" class=\"dataframe\">\n",
       "  <thead>\n",
       "    <tr style=\"text-align: right;\">\n",
       "      <th></th>\n",
       "      <th>coltime</th>\n",
       "      <th>local_abund</th>\n",
       "      <th>migrants</th>\n",
       "      <th>trait</th>\n",
       "      <th>tau</th>\n",
       "      <th>pi</th>\n",
       "      <th>is_founder</th>\n",
       "    </tr>\n",
       "  </thead>\n",
       "  <tbody>\n",
       "    <tr>\n",
       "      <th>m77-1</th>\n",
       "      <td>10.0</td>\n",
       "      <td>96.0</td>\n",
       "      <td>607.0</td>\n",
       "      <td>-2.215140</td>\n",
       "      <td>95.0</td>\n",
       "      <td>0.0370</td>\n",
       "      <td>0.0</td>\n",
       "    </tr>\n",
       "    <tr>\n",
       "      <th>m56-1</th>\n",
       "      <td>18.0</td>\n",
       "      <td>84.0</td>\n",
       "      <td>542.0</td>\n",
       "      <td>-1.522139</td>\n",
       "      <td>96.0</td>\n",
       "      <td>0.0050</td>\n",
       "      <td>0.0</td>\n",
       "    </tr>\n",
       "    <tr>\n",
       "      <th>m58-1</th>\n",
       "      <td>331.0</td>\n",
       "      <td>35.0</td>\n",
       "      <td>164.0</td>\n",
       "      <td>8.003265</td>\n",
       "      <td>94.0</td>\n",
       "      <td>0.0010</td>\n",
       "      <td>0.0</td>\n",
       "    </tr>\n",
       "    <tr>\n",
       "      <th>m30-1</th>\n",
       "      <td>369.0</td>\n",
       "      <td>85.0</td>\n",
       "      <td>312.0</td>\n",
       "      <td>2.040473</td>\n",
       "      <td>99.0</td>\n",
       "      <td>0.0060</td>\n",
       "      <td>0.0</td>\n",
       "    </tr>\n",
       "    <tr>\n",
       "      <th>m68-2</th>\n",
       "      <td>559.0</td>\n",
       "      <td>151.0</td>\n",
       "      <td>74.0</td>\n",
       "      <td>3.314826</td>\n",
       "      <td>99.0</td>\n",
       "      <td>0.0145</td>\n",
       "      <td>0.0</td>\n",
       "    </tr>\n",
       "    <tr>\n",
       "      <th>m37-2</th>\n",
       "      <td>616.0</td>\n",
       "      <td>91.0</td>\n",
       "      <td>46.0</td>\n",
       "      <td>7.615998</td>\n",
       "      <td>95.0</td>\n",
       "      <td>0.0020</td>\n",
       "      <td>0.0</td>\n",
       "    </tr>\n",
       "    <tr>\n",
       "      <th>m86-1</th>\n",
       "      <td>887.0</td>\n",
       "      <td>149.0</td>\n",
       "      <td>27.0</td>\n",
       "      <td>-1.572420</td>\n",
       "      <td>93.0</td>\n",
       "      <td>0.0050</td>\n",
       "      <td>0.0</td>\n",
       "    </tr>\n",
       "    <tr>\n",
       "      <th>m58-2</th>\n",
       "      <td>891.0</td>\n",
       "      <td>64.0</td>\n",
       "      <td>37.0</td>\n",
       "      <td>7.443964</td>\n",
       "      <td>96.0</td>\n",
       "      <td>0.0015</td>\n",
       "      <td>0.0</td>\n",
       "    </tr>\n",
       "    <tr>\n",
       "      <th>m65-1</th>\n",
       "      <td>939.0</td>\n",
       "      <td>48.0</td>\n",
       "      <td>23.0</td>\n",
       "      <td>0.380120</td>\n",
       "      <td>94.0</td>\n",
       "      <td>0.0090</td>\n",
       "      <td>0.0</td>\n",
       "    </tr>\n",
       "    <tr>\n",
       "      <th>m33-2</th>\n",
       "      <td>945.0</td>\n",
       "      <td>53.0</td>\n",
       "      <td>2.0</td>\n",
       "      <td>2.269120</td>\n",
       "      <td>65.0</td>\n",
       "      <td>0.0075</td>\n",
       "      <td>0.0</td>\n",
       "    </tr>\n",
       "    <tr>\n",
       "      <th>m79-2</th>\n",
       "      <td>955.0</td>\n",
       "      <td>15.0</td>\n",
       "      <td>8.0</td>\n",
       "      <td>-1.010542</td>\n",
       "      <td>96.0</td>\n",
       "      <td>0.0035</td>\n",
       "      <td>0.0</td>\n",
       "    </tr>\n",
       "    <tr>\n",
       "      <th>m44-1</th>\n",
       "      <td>956.0</td>\n",
       "      <td>93.0</td>\n",
       "      <td>3.0</td>\n",
       "      <td>4.308181</td>\n",
       "      <td>73.0</td>\n",
       "      <td>0.0160</td>\n",
       "      <td>0.0</td>\n",
       "    </tr>\n",
       "    <tr>\n",
       "      <th>m101-1</th>\n",
       "      <td>961.0</td>\n",
       "      <td>14.0</td>\n",
       "      <td>1.0</td>\n",
       "      <td>-0.417601</td>\n",
       "      <td>69.0</td>\n",
       "      <td>0.0000</td>\n",
       "      <td>0.0</td>\n",
       "    </tr>\n",
       "    <tr>\n",
       "      <th>m16-2</th>\n",
       "      <td>985.0</td>\n",
       "      <td>1.0</td>\n",
       "      <td>2.0</td>\n",
       "      <td>-3.873465</td>\n",
       "      <td>96.0</td>\n",
       "      <td>0.0000</td>\n",
       "      <td>0.0</td>\n",
       "    </tr>\n",
       "    <tr>\n",
       "      <th>m79-1</th>\n",
       "      <td>987.0</td>\n",
       "      <td>6.0</td>\n",
       "      <td>3.0</td>\n",
       "      <td>-0.606443</td>\n",
       "      <td>99.0</td>\n",
       "      <td>0.0000</td>\n",
       "      <td>0.0</td>\n",
       "    </tr>\n",
       "    <tr>\n",
       "      <th>m65-2</th>\n",
       "      <td>990.0</td>\n",
       "      <td>5.0</td>\n",
       "      <td>2.0</td>\n",
       "      <td>1.127052</td>\n",
       "      <td>98.0</td>\n",
       "      <td>0.0015</td>\n",
       "      <td>0.0</td>\n",
       "    </tr>\n",
       "    <tr>\n",
       "      <th>m26-1</th>\n",
       "      <td>992.0</td>\n",
       "      <td>2.0</td>\n",
       "      <td>4.0</td>\n",
       "      <td>8.518259</td>\n",
       "      <td>98.0</td>\n",
       "      <td>0.0000</td>\n",
       "      <td>0.0</td>\n",
       "    </tr>\n",
       "    <tr>\n",
       "      <th>m86-2</th>\n",
       "      <td>997.0</td>\n",
       "      <td>7.0</td>\n",
       "      <td>2.0</td>\n",
       "      <td>-1.558546</td>\n",
       "      <td>98.0</td>\n",
       "      <td>0.0015</td>\n",
       "      <td>0.0</td>\n",
       "    </tr>\n",
       "    <tr>\n",
       "      <th>m43-1</th>\n",
       "      <td>999.0</td>\n",
       "      <td>1.0</td>\n",
       "      <td>0.0</td>\n",
       "      <td>0.442654</td>\n",
       "      <td>99.0</td>\n",
       "      <td>0.0010</td>\n",
       "      <td>0.0</td>\n",
       "    </tr>\n",
       "  </tbody>\n",
       "</table>\n",
       "</div>"
      ],
      "text/plain": [
       "        coltime  local_abund  migrants     trait   tau      pi  is_founder\n",
       "m77-1      10.0         96.0     607.0 -2.215140  95.0  0.0370         0.0\n",
       "m56-1      18.0         84.0     542.0 -1.522139  96.0  0.0050         0.0\n",
       "m58-1     331.0         35.0     164.0  8.003265  94.0  0.0010         0.0\n",
       "m30-1     369.0         85.0     312.0  2.040473  99.0  0.0060         0.0\n",
       "m68-2     559.0        151.0      74.0  3.314826  99.0  0.0145         0.0\n",
       "m37-2     616.0         91.0      46.0  7.615998  95.0  0.0020         0.0\n",
       "m86-1     887.0        149.0      27.0 -1.572420  93.0  0.0050         0.0\n",
       "m58-2     891.0         64.0      37.0  7.443964  96.0  0.0015         0.0\n",
       "m65-1     939.0         48.0      23.0  0.380120  94.0  0.0090         0.0\n",
       "m33-2     945.0         53.0       2.0  2.269120  65.0  0.0075         0.0\n",
       "m79-2     955.0         15.0       8.0 -1.010542  96.0  0.0035         0.0\n",
       "m44-1     956.0         93.0       3.0  4.308181  73.0  0.0160         0.0\n",
       "m101-1    961.0         14.0       1.0 -0.417601  69.0  0.0000         0.0\n",
       "m16-2     985.0          1.0       2.0 -3.873465  96.0  0.0000         0.0\n",
       "m79-1     987.0          6.0       3.0 -0.606443  99.0  0.0000         0.0\n",
       "m65-2     990.0          5.0       2.0  1.127052  98.0  0.0015         0.0\n",
       "m26-1     992.0          2.0       4.0  8.518259  98.0  0.0000         0.0\n",
       "m86-2     997.0          7.0       2.0 -1.558546  98.0  0.0015         0.0\n",
       "m43-1     999.0          1.0       0.0  0.442654  99.0  0.0010         0.0"
      ]
     },
     "execution_count": 347,
     "metadata": {},
     "output_type": "execute_result"
    }
   ],
   "source": [
    "model.l.community"
   ]
  },
  {
   "cell_type": "code",
   "execution_count": 390,
   "id": "909041b2",
   "metadata": {},
   "outputs": [
    {
     "name": "stdout",
     "output_type": "stream",
     "text": [
      "{'m103-2': 1020000.0, 'm72-1': 5010000.0, 'm129-1': 2120000.0, 'm42-2': 2610000.0, 'm62-1': 8430000.0, 'm56-2': 3700000.0, 'm125-1': 5170000.0, 'm62-2': 2640000.0, 'm104-2': 690000.0, 'm99-1': 1100000.0, 'm124-1': 570000.0, 'm25-1': 1140000.0, 'm90-2': 360000.0, 'm36-1': 1250000.0, 'm124-2': 640000.0, 'm81-1': 2920000.0, 'm100-2': 250000.0, 'm94-1': 90000.0, 'm116-2': 470000.0, 'm128-2': 2140000.0, 'm98-2': 900000.0, 'm103-1': 330000.0, 'm100-1': 1130000.0, 'm95-1': 80000.0, 'm131-1': 190000.0, 'm131-2': 30000.0, 'm116-1': 590000.0, 'm112-2': 1270000.0, 'm95-2': 150000.0, 'm123-1': 200000.0, 'm65-1': 140000.0, 'm70-1': 40000.0, 'm98-1': 170000.0, 'm30-1': 100000.0, 'm128-1': 10000.0, 'm132-1': 40000.0, 'm125-2': 30000.0, 'm48-2': 10000.0, 'm110-1': 10000.0}\n",
      "8904566.446742598\n",
      "wrote concat locus (195 x 200bp) to /Users/isaac/Documents/IMEMEBA-BCI/jupyter-notebooks/default_iBioGen/test.phy\n",
      "./default_iBioGen/test.fasta\n"
     ]
    },
    {
     "data": {
      "text/plain": [
       "'./default_iBioGen/test.fasta'"
      ]
     },
     "execution_count": 390,
     "metadata": {},
     "output_type": "execute_result"
    }
   ],
   "source": [
    "tre = model.m.tre\n",
    "Nes = {}\n",
    "Nes = {x:y*1e4 for x, y in zip(model.l.community.index, model.l.community['local_abund']) if 'l' not in x}\n",
    "print(Nes)\n",
    "\n",
    "# Set Nes for the tips\n",
    "tre = tre.set_node_values(feature=\"Ne\", values=Nes, default=1e5)\n",
    "# This works now\n",
    "#print(tre.get_node_values(\"Ne\", show_tips=True))\n",
    "\n",
    "# Scale branch lengths from mya to generations\n",
    "for node in tre.treenode.traverse():\n",
    "    node.dist = node.dist*1e6\n",
    "rt = tre.treenode.get_tree_root()\n",
    "print(rt.height)\n",
    "\n",
    "# Set Ne to None here to honor the Ne values on the nodes of the tree\n",
    "ipmodel = ipcoal.Model(tre, Ne=None, recomb=0, mut=5e-9, nsamples={x:5 for x in Nes.keys()})\n",
    "ipmodel.sim_loci(nloci=1, nsites=200)\n",
    "ipmodel.write_concat_to_phylip(outdir=\"./default_iBioGen\", name=\"test.phy\")\n",
    "BCI.phylip_to_fasta(\"./default_iBioGen/test.phy\", verbose=True)"
   ]
  },
  {
   "cell_type": "code",
   "execution_count": 391,
   "id": "e605b823",
   "metadata": {},
   "outputs": [
    {
     "name": "stdout",
     "output_type": "stream",
     "text": [
      "[97, 47, 31, 24, 18, 10, 8, 8, 4, 3, 3, 3, 2, 1, 1, 1, 1, 1, 1, 1]\n",
      "Aligning..\n"
     ]
    }
   ],
   "source": [
    "bci = BCI.BCI(data='./default_iBioGen/test.fasta', project_dir=\"./default_iBioGen\")\n",
    "bci.run(verbose=True)"
   ]
  },
  {
   "cell_type": "code",
   "execution_count": 392,
   "id": "da2196ea",
   "metadata": {
    "scrolled": false
   },
   "outputs": [
    {
     "name": "stdout",
     "output_type": "stream",
     "text": [
      "40\n",
      "23\n"
     ]
    },
    {
     "data": {
      "text/plain": [
       "[<matplotlib.lines.Line2D at 0x7fd51059cb90>]"
      ]
     },
     "execution_count": 392,
     "metadata": {},
     "output_type": "execute_result"
    },
    {
     "data": {
      "image/png": "[encoded data removed]",
      "text/plain": [
       "<Figure size 800x800 with 1 Axes>"
      ]
     },
     "metadata": {},
     "output_type": "display_data"
    }
   ],
   "source": [
    "print(len(model.l.community[\"pi\"]))\n",
    "print(len(bci.pis))\n",
    "fig, ax = bci.plot(plot_pis=True)\n",
    "ax.plot(sorted(model.l.community[\"pi\"], reverse=True), label=\"simulated\")"
   ]
  },
  {
   "cell_type": "code",
   "execution_count": null,
   "id": "826f97f7",
   "metadata": {},
   "outputs": [],
   "source": []
  },
  {
   "cell_type": "code",
   "execution_count": 367,
   "id": "7e8d639a",
   "metadata": {},
   "outputs": [
    {
     "data": {
      "text/plain": [
       "(<Figure size 800x800 with 1 Axes>, <AxesSubplot:>)"
      ]
     },
     "execution_count": 367,
     "metadata": {},
     "output_type": "execute_result"
    },
    {
     "data": {
      "image/png": "[encoded data removed]",
      "text/plain": [
       "<Figure size 800x800 with 1 Axes>"
      ]
     },
     "metadata": {},
     "output_type": "display_data"
    }
   ],
   "source": [
    "bci.plot(log=True)"
   ]
  },
  {
   "cell_type": "code",
   "execution_count": 350,
   "id": "1ed3c543",
   "metadata": {},
   "outputs": [
    {
     "name": "stdout",
     "output_type": "stream",
     "text": [
      "8.409038935742302\n"
     ]
    },
    {
     "data": {
      "text/plain": [
       "8409038.935742302"
      ]
     },
     "execution_count": 350,
     "metadata": {},
     "output_type": "execute_result"
    }
   ],
   "source": [
    "tre = model.m.tre.copy()\n",
    "rt = tre.treenode.get_tree_root()\n",
    "print(rt.height)\n",
    "#print(tre.get_node_dict())\n",
    "tre.get_node_values(\"height\", show_tips=True)\n",
    "for node in tre.treenode.traverse():\n",
    "    node.dist = node.dist*1e6\n",
    "#    print(node.name, node.height)\n",
    "rt = tre.treenode.get_tree_root()\n",
    "#rt.height\n",
    "#rt._height = rt.height*10\n",
    "rt.height"
   ]
  },
  {
   "cell_type": "code",
   "execution_count": 346,
   "id": "785b7149",
   "metadata": {},
   "outputs": [
    {
     "data": {
      "text/plain": [
       "(<toyplot.canvas.Canvas at 0x7fd521aaeb10>,\n",
       " <toyplot.coordinates.Cartesian at 0x7fd562e35850>,\n",
       " <toytree.Render.ToytreeMark at 0x7fd562fc2c90>)"
      ]
     },
     "execution_count": 346,
     "metadata": {},
     "output_type": "execute_result"
    },
    {
     "data": {
      "text/html": [
       "<div class=\"toyplot\" id=\"t77a6d3ad3ec24077a98583c842ae8390\" style=\"text-align:center\"><svg class=\"toyplot-canvas-Canvas\" height=\"1000.0px\" id=\"t84f1f8f0d29c49eb8ee403de9c35dfa6\" preserveAspectRatio=\"xMidYMid meet\" style=\"background-color:transparent;border-color:#292724;border-style:none;border-width:1.0;fill:rgb(16.1%,15.3%,14.1%);fill-opacity:1.0;font-family:Helvetica;font-size:12px;opacity:1.0;stroke:rgb(16.1%,15.3%,14.1%);stroke-opacity:1.0;stroke-width:1.0\" viewBox=\"0 0 280.0 1000.0\" width=\"280.0px\" xmlns=\"http://www.w3.org/2000/svg\" xmlns:toyplot=\"http://www.sandia.gov/toyplot\" xmlns:xlink=\"http://www.w3.org/1999/xlink\"><g class=\"toyplot-coordinates-Cartesian\" id=\"t789c273e938941d7b37d6d97b34a39fc\"><clipPath id=\"t038331f6cdc647af8f89feaa543dc481\"><rect height=\"940.0\" width=\"220.0\" x=\"30.0\" y=\"30.0\"></rect></clipPath><g clip-path=\"url(#t038331f6cdc647af8f89feaa543dc481)\"><g class=\"toytree-mark-Toytree\" id=\"td0f07a6a2cc34f75bf61d1bb2bd715b9\"><g class=\"toytree-Edges\" style=\"fill:none;stroke:rgb(14.9%,14.9%,14.9%);stroke-linecap:round;stroke-opacity:1;stroke-width:2\"><path d=\"M 51.4 277.7 L 51.4 113.8 L 66.3 113.8\" id=\"198,197\"></path><path d=\"M 51.4 277.7 L 51.4 441.5 L 67.8 441.5\" id=\"198,196\"></path><path d=\"M 66.3 113.8 L 66.3 74.3 L 118.8 74.3\" id=\"197,195\"></path><path d=\"M 66.3 113.8 L 66.3 153.3 L 134.4 153.3\" id=\"197,194\"></path><path d=\"M 67.8 441.5 L 67.8 277.8 L 106.4 277.8\" id=\"196,193\"></path><path d=\"M 67.8 441.5 L 67.8 605.2 L 71.7 605.2\" id=\"196,192\"></path><path d=\"M 118.8 74.3 L 118.8 86.3 L 150.0 86.3\" id=\"195,191\"></path><path d=\"M 134.4 153.3 L 134.4 137.4 L 164.6 137.4\" id=\"194,190\"></path><path d=\"M 134.4 153.3 L 134.4 169.2 L 144.3 169.2\" id=\"194,189\"></path><path d=\"M 106.4 277.8 L 106.4 238.0 L 150.3 238.0\" id=\"193,188\"></path><path d=\"M 106.4 277.8 L 106.4 317.5 L 110.5 317.5\" id=\"193,187\"></path><path d=\"M 71.7 605.2 L 71.7 487.3 L 87.3 487.3\" id=\"192,186\"></path><path d=\"M 71.7 605.2 L 71.7 723.2 L 79.5 723.2\" id=\"192,185\"></path><path d=\"M 150.0 86.3 L 150.0 75.5 L 167.9 75.5\" id=\"191,184\"></path><path d=\"M 150.0 86.3 L 150.0 97.1 L 151.6 97.1\" id=\"191,183\"></path><path d=\"M 144.3 169.2 L 144.3 187.7 L 165.7 187.7\" id=\"189,182\"></path><path d=\"M 150.3 238.0 L 150.3 245.8 L 153.6 245.8\" id=\"188,181\"></path><path d=\"M 110.5 317.5 L 110.5 285.6 L 121.8 285.6\" id=\"187,180\"></path><path d=\"M 110.5 317.5 L 110.5 349.5 L 117.9 349.5\" id=\"187,179\"></path><path d=\"M 87.3 487.3 L 87.3 456.9 L 88.8 456.9\" id=\"186,178\"></path><path d=\"M 87.3 487.3 L 87.3 517.8 L 119.0 517.8\" id=\"186,177\"></path><path d=\"M 79.5 723.2 L 79.5 648.4 L 110.9 648.4\" id=\"185,176\"></path><path d=\"M 79.5 723.2 L 79.5 797.9 L 85.1 797.9\" id=\"185,175\"></path><path d=\"M 151.6 97.1 L 151.6 105.4 L 167.4 105.4\" id=\"183,174\"></path><path d=\"M 165.7 187.7 L 165.7 172.8 L 166.0 172.8\" id=\"182,173\"></path><path d=\"M 165.7 187.7 L 165.7 202.6 L 166.2 202.6\" id=\"182,172\"></path><path d=\"M 153.6 245.8 L 153.6 252.4 L 163.0 252.4\" id=\"181,171\"></path><path d=\"M 121.8 285.6 L 121.8 272.3 L 157.7 272.3\" id=\"180,170\"></path><path d=\"M 121.8 285.6 L 121.8 298.8 L 149.2 298.8\" id=\"180,169\"></path><path d=\"M 117.9 349.5 L 117.9 323.1 L 173.1 323.1\" id=\"179,168\"></path><path d=\"M 117.9 349.5 L 117.9 375.9 L 128.3 375.9\" id=\"179,167\"></path><path d=\"M 88.8 456.9 L 88.8 446.9 L 162.9 446.9\" id=\"178,166\"></path><path d=\"M 88.8 456.9 L 88.8 466.8 L 144.9 466.8\" id=\"178,165\"></path><path d=\"M 119.0 517.8 L 119.0 491.2 L 132.3 491.2\" id=\"177,164\"></path><path d=\"M 119.0 517.8 L 119.0 544.4 L 132.1 544.4\" id=\"177,163\"></path><path d=\"M 110.9 648.4 L 110.9 627.1 L 174.0 627.1\" id=\"176,162\"></path><path d=\"M 110.9 648.4 L 110.9 669.7 L 120.4 669.7\" id=\"176,161\"></path><path d=\"M 85.1 797.9 L 85.1 734.1 L 86.8 734.1\" id=\"175,160\"></path><path d=\"M 85.1 797.9 L 85.1 861.7 L 110.3 861.7\" id=\"175,159\"></path><path d=\"M 167.4 105.4 L 167.4 113.1 L 170.9 113.1\" id=\"174,158\"></path><path d=\"M 166.0 172.8 L 166.0 164.0 L 166.7 164.0\" id=\"173,157\"></path><path d=\"M 166.0 172.8 L 166.0 181.6 L 171.7 181.6\" id=\"173,156\"></path><path d=\"M 166.2 202.6 L 166.2 210.4 L 173.9 210.4\" id=\"172,155\"></path><path d=\"M 157.7 272.3 L 157.7 278.9 L 178.6 278.9\" id=\"170,154\"></path><path d=\"M 149.2 298.8 L 149.2 305.4 L 170.8 305.4\" id=\"169,153\"></path><path d=\"M 128.3 375.9 L 128.3 350.8 L 132.1 350.8\" id=\"167,152\"></path><path d=\"M 128.3 375.9 L 128.3 401.1 L 146.5 401.1\" id=\"167,151\"></path><path d=\"M 144.9 466.8 L 144.9 473.5 L 160.4 473.5\" id=\"165,150\"></path><path d=\"M 132.1 544.4 L 132.1 513.0 L 160.8 513.0\" id=\"163,149\"></path><path d=\"M 132.1 544.4 L 132.1 575.7 L 133.3 575.7\" id=\"163,148\"></path><path d=\"M 174.0 627.1 L 174.0 634.9 L 178.6 634.9\" id=\"162,147\"></path><path d=\"M 120.4 669.7 L 120.4 659.2 L 154.9 659.2\" id=\"161,146\"></path><path d=\"M 120.4 669.7 L 120.4 680.2 L 155.6 680.2\" id=\"161,145\"></path><path d=\"M 86.8 734.1 L 86.8 714.4 L 139.8 714.4\" id=\"160,144\"></path><path d=\"M 86.8 734.1 L 86.8 753.8 L 110.5 753.8\" id=\"160,143\"></path><path d=\"M 110.3 861.7 L 110.3 833.8 L 137.9 833.8\" id=\"159,142\"></path><path d=\"M 110.3 861.7 L 110.3 889.7 L 127.6 889.7\" id=\"159,141\"></path><path d=\"M 170.9 113.1 L 170.9 119.7 L 176.4 119.7\" id=\"158,140\"></path><path d=\"M 173.9 210.4 L 173.9 217.0 L 178.2 217.0\" id=\"155,139\"></path><path d=\"M 132.1 350.8 L 132.1 340.8 L 172.8 340.8\" id=\"152,138\"></path><path d=\"M 132.1 350.8 L 132.1 360.7 L 143.8 360.7\" id=\"152,137\"></path><path d=\"M 146.5 401.1 L 146.5 387.2 L 156.3 387.2\" id=\"151,136\"></path><path d=\"M 146.5 401.1 L 146.5 414.9 L 175.3 414.9\" id=\"151,135\"></path><path d=\"M 160.8 513.0 L 160.8 521.6 L 162.1 521.6\" id=\"149,134\"></path><path d=\"M 133.3 575.7 L 133.3 561.9 L 171.3 561.9\" id=\"148,133\"></path><path d=\"M 133.3 575.7 L 133.3 589.5 L 146.8 589.5\" id=\"148,132\"></path><path d=\"M 178.6 634.9 L 178.6 641.5 L 179.1 641.5\" id=\"147,131\"></path><path d=\"M 155.6 680.2 L 155.6 687.9 L 159.4 687.9\" id=\"145,130\"></path><path d=\"M 139.8 714.4 L 139.8 721.1 L 164.6 721.1\" id=\"144,129\"></path><path d=\"M 110.5 753.8 L 110.5 738.8 L 143.1 738.8\" id=\"143,128\"></path><path d=\"M 110.5 753.8 L 110.5 768.9 L 121.5 768.9\" id=\"143,127\"></path><path d=\"M 137.9 833.8 L 137.9 844.9 L 143.2 844.9\" id=\"142,126\"></path><path d=\"M 127.6 889.7 L 127.6 871.4 L 158.9 871.4\" id=\"141,125\"></path><path d=\"M 127.6 889.7 L 127.6 907.9 L 127.9 907.9\" id=\"141,124\"></path><path d=\"M 143.8 360.7 L 143.8 367.4 L 147.7 367.4\" id=\"137,123\"></path><path d=\"M 156.3 387.2 L 156.3 393.9 L 177.7 393.9\" id=\"136,122\"></path><path d=\"M 175.3 414.9 L 175.3 422.6 L 177.3 422.6\" id=\"135,121\"></path><path d=\"M 162.1 521.6 L 162.1 529.8 L 162.6 529.8\" id=\"134,120\"></path><path d=\"M 146.8 589.5 L 146.8 579.6 L 161.1 579.6\" id=\"132,119\"></path><path d=\"M 146.8 589.5 L 146.8 599.5 L 156.6 599.5\" id=\"132,118\"></path><path d=\"M 159.4 687.9 L 159.4 694.6 L 161.2 694.6\" id=\"130,117\"></path><path d=\"M 121.5 768.9 L 121.5 756.5 L 160.3 756.5\" id=\"127,116\"></path><path d=\"M 121.5 768.9 L 121.5 781.3 L 150.9 781.3\" id=\"127,115\"></path><path d=\"M 143.2 844.9 L 143.2 836.0 L 158.0 836.0\" id=\"126,114\"></path><path d=\"M 143.2 844.9 L 143.2 853.7 L 177.8 853.7\" id=\"126,113\"></path><path d=\"M 127.9 907.9 L 127.9 891.3 L 142.7 891.3\" id=\"124,112\"></path><path d=\"M 127.9 907.9 L 127.9 924.5 L 140.1 924.5\" id=\"124,111\"></path><path d=\"M 177.3 422.6 L 177.3 429.3 L 178.2 429.3\" id=\"121,110\"></path><path d=\"M 162.6 529.8 L 162.6 537.6 L 163.0 537.6\" id=\"120,109\"></path><path d=\"M 156.6 599.5 L 156.6 606.1 L 165.3 606.1\" id=\"118,108\"></path><path d=\"M 150.9 781.3 L 150.9 792.9 L 156.6 792.9\" id=\"115,107\"></path><path d=\"M 142.7 891.3 L 142.7 897.9 L 152.3 897.9\" id=\"112,106\"></path><path d=\"M 140.1 924.5 L 140.1 915.6 L 175.9 915.6\" id=\"111,105\"></path><path d=\"M 140.1 924.5 L 140.1 933.3 L 172.1 933.3\" id=\"111,104\"></path><path d=\"M 163.0 537.6 L 163.0 544.2 L 169.4 544.2\" id=\"109,103\"></path><path d=\"M 156.6 792.9 L 156.6 783.0 L 177.6 783.0\" id=\"107,102\"></path><path d=\"M 156.6 792.9 L 156.6 802.9 L 172.5 802.9\" id=\"107,101\"></path><path d=\"M 172.5 802.9 L 172.5 809.5 L 178.3 809.5\" id=\"101,100\"></path><path d=\"M 118.8 74.3 L 118.8 62.3 L 179.4 62.3\" id=\"195,99\"></path><path d=\"M 167.9 75.5 L 167.9 71.1 L 179.4 71.1\" id=\"184,98\"></path><path d=\"M 167.9 75.5 L 167.9 79.9 L 179.4 79.9\" id=\"184,97\"></path><path d=\"M 151.6 97.1 L 151.6 88.8 L 179.4 88.8\" id=\"183,96\"></path><path d=\"M 167.4 105.4 L 167.4 97.6 L 179.4 97.6\" id=\"174,95\"></path><path d=\"M 170.9 113.1 L 170.9 106.5 L 179.4 106.5\" id=\"158,94\"></path><path d=\"M 176.4 119.7 L 176.4 115.3 L 179.4 115.3\" id=\"140,93\"></path><path d=\"M 176.4 119.7 L 176.4 124.2 L 179.4 124.2\" id=\"140,92\"></path><path d=\"M 164.6 137.4 L 164.6 133.0 L 179.4 133.0\" id=\"190,91\"></path><path d=\"M 164.6 137.4 L 164.6 141.8 L 179.4 141.8\" id=\"190,90\"></path><path d=\"M 144.3 169.2 L 144.3 150.7 L 179.4 150.7\" id=\"189,89\"></path><path d=\"M 166.7 164.0 L 166.7 159.5 L 179.4 159.5\" id=\"157,88\"></path><path d=\"M 166.7 164.0 L 166.7 168.4 L 179.4 168.4\" id=\"157,87\"></path><path d=\"M 171.7 181.6 L 171.7 177.2 L 179.4 177.2\" id=\"156,86\"></path><path d=\"M 171.7 181.6 L 171.7 186.1 L 179.4 186.1\" id=\"156,85\"></path><path d=\"M 166.2 202.6 L 166.2 194.9 L 179.4 194.9\" id=\"172,84\"></path><path d=\"M 173.9 210.4 L 173.9 203.7 L 179.4 203.7\" id=\"155,83\"></path><path d=\"M 178.2 217.0 L 178.2 212.6 L 179.4 212.6\" id=\"139,82\"></path><path d=\"M 178.2 217.0 L 178.2 221.4 L 179.4 221.4\" id=\"139,81\"></path><path d=\"M 150.3 238.0 L 150.3 230.3 L 179.4 230.3\" id=\"188,80\"></path><path d=\"M 153.6 245.8 L 153.6 239.1 L 179.4 239.1\" id=\"181,79\"></path><path d=\"M 163.0 252.4 L 163.0 248.0 L 179.4 248.0\" id=\"171,78\"></path><path d=\"M 163.0 252.4 L 163.0 256.8 L 179.4 256.8\" id=\"171,77\"></path><path d=\"M 157.7 272.3 L 157.7 265.7 L 179.4 265.7\" id=\"170,76\"></path><path d=\"M 178.6 278.9 L 178.6 274.5 L 179.4 274.5\" id=\"154,75\"></path><path d=\"M 178.6 278.9 L 178.6 283.3 L 179.4 283.3\" id=\"154,74\"></path><path d=\"M 149.2 298.8 L 149.2 292.2 L 179.4 292.2\" id=\"169,73\"></path><path d=\"M 170.8 305.4 L 170.8 301.0 L 179.4 301.0\" id=\"153,72\"></path><path d=\"M 170.8 305.4 L 170.8 309.9 L 179.4 309.9\" id=\"153,71\"></path><path d=\"M 173.1 323.1 L 173.1 318.7 L 179.4 318.7\" id=\"168,70\"></path><path d=\"M 173.1 323.1 L 173.1 327.6 L 179.4 327.6\" id=\"168,69\"></path><path d=\"M 172.8 340.8 L 172.8 336.4 L 179.4 336.4\" id=\"138,68\"></path><path d=\"M 172.8 340.8 L 172.8 345.2 L 179.4 345.2\" id=\"138,67\"></path><path d=\"M 143.8 360.7 L 143.8 354.1 L 179.4 354.1\" id=\"137,66\"></path><path d=\"M 147.7 367.4 L 147.7 362.9 L 179.4 362.9\" id=\"123,65\"></path><path d=\"M 147.7 367.4 L 147.7 371.8 L 179.4 371.8\" id=\"123,64\"></path><path d=\"M 156.3 387.2 L 156.3 380.6 L 179.4 380.6\" id=\"136,63\"></path><path d=\"M 177.7 393.9 L 177.7 389.5 L 179.4 389.5\" id=\"122,62\"></path><path d=\"M 177.7 393.9 L 177.7 398.3 L 179.4 398.3\" id=\"122,61\"></path><path d=\"M 175.3 414.9 L 175.3 407.1 L 179.4 407.1\" id=\"135,60\"></path><path d=\"M 177.3 422.6 L 177.3 416.0 L 179.4 416.0\" id=\"121,59\"></path><path d=\"M 178.2 429.3 L 178.2 424.8 L 179.4 424.8\" id=\"110,58\"></path><path d=\"M 178.2 429.3 L 178.2 433.7 L 179.4 433.7\" id=\"110,57\"></path><path d=\"M 162.9 446.9 L 162.9 442.5 L 179.4 442.5\" id=\"166,56\"></path><path d=\"M 162.9 446.9 L 162.9 451.4 L 179.4 451.4\" id=\"166,55\"></path><path d=\"M 144.9 466.8 L 144.9 460.2 L 179.4 460.2\" id=\"165,54\"></path><path d=\"M 160.4 473.5 L 160.4 469.0 L 179.4 469.0\" id=\"150,53\"></path><path d=\"M 160.4 473.5 L 160.4 477.9 L 179.4 477.9\" id=\"150,52\"></path><path d=\"M 132.3 491.2 L 132.3 486.7 L 179.4 486.7\" id=\"164,51\"></path><path d=\"M 132.3 491.2 L 132.3 495.6 L 179.4 495.6\" id=\"164,50\"></path><path d=\"M 160.8 513.0 L 160.8 504.4 L 179.4 504.4\" id=\"149,49\"></path><path d=\"M 162.1 521.6 L 162.1 513.3 L 179.4 513.3\" id=\"134,48\"></path><path d=\"M 162.6 529.8 L 162.6 522.1 L 179.4 522.1\" id=\"120,47\"></path><path d=\"M 163.0 537.6 L 163.0 531.0 L 179.4 531.0\" id=\"109,46\"></path><path d=\"M 169.4 544.2 L 169.4 539.8 L 179.4 539.8\" id=\"103,45\"></path><path d=\"M 169.4 544.2 L 169.4 548.6 L 179.4 548.6\" id=\"103,44\"></path><path d=\"M 171.3 561.9 L 171.3 557.5 L 179.4 557.5\" id=\"133,43\"></path><path d=\"M 171.3 561.9 L 171.3 566.3 L 179.4 566.3\" id=\"133,42\"></path><path d=\"M 161.1 579.6 L 161.1 575.2 L 179.4 575.2\" id=\"119,41\"></path><path d=\"M 161.1 579.6 L 161.1 584.0 L 179.4 584.0\" id=\"119,40\"></path><path d=\"M 156.6 599.5 L 156.6 592.9 L 179.4 592.9\" id=\"118,39\"></path><path d=\"M 165.3 606.1 L 165.3 601.7 L 179.4 601.7\" id=\"108,38\"></path><path d=\"M 165.3 606.1 L 165.3 610.5 L 179.4 610.5\" id=\"108,37\"></path><path d=\"M 174.0 627.1 L 174.0 619.4 L 179.4 619.4\" id=\"162,36\"></path><path d=\"M 178.6 634.9 L 178.6 628.2 L 179.4 628.2\" id=\"147,35\"></path><path d=\"M 179.1 641.5 L 179.1 637.1 L 179.4 637.1\" id=\"131,34\"></path><path d=\"M 179.1 641.5 L 179.1 645.9 L 179.4 645.9\" id=\"131,33\"></path><path d=\"M 154.9 659.2 L 154.9 654.8 L 179.4 654.8\" id=\"146,32\"></path><path d=\"M 154.9 659.2 L 154.9 663.6 L 179.4 663.6\" id=\"146,31\"></path><path d=\"M 155.6 680.2 L 155.6 672.4 L 179.4 672.4\" id=\"145,30\"></path><path d=\"M 159.4 687.9 L 159.4 681.3 L 179.4 681.3\" id=\"130,29\"></path><path d=\"M 161.2 694.6 L 161.2 690.1 L 179.4 690.1\" id=\"117,28\"></path><path d=\"M 161.2 694.6 L 161.2 699.0 L 179.4 699.0\" id=\"117,27\"></path><path d=\"M 139.8 714.4 L 139.8 707.8 L 179.4 707.8\" id=\"144,26\"></path><path d=\"M 164.6 721.1 L 164.6 716.7 L 179.4 716.7\" id=\"129,25\"></path><path d=\"M 164.6 721.1 L 164.6 725.5 L 179.4 725.5\" id=\"129,24\"></path><path d=\"M 143.1 738.8 L 143.1 734.3 L 179.4 734.3\" id=\"128,23\"></path><path d=\"M 143.1 738.8 L 143.1 743.2 L 179.4 743.2\" id=\"128,22\"></path><path d=\"M 160.3 756.5 L 160.3 752.0 L 179.4 752.0\" id=\"116,21\"></path><path d=\"M 160.3 756.5 L 160.3 760.9 L 179.4 760.9\" id=\"116,20\"></path><path d=\"M 150.9 781.3 L 150.9 769.7 L 179.4 769.7\" id=\"115,19\"></path><path d=\"M 177.6 783.0 L 177.6 778.6 L 179.4 778.6\" id=\"102,18\"></path><path d=\"M 177.6 783.0 L 177.6 787.4 L 179.4 787.4\" id=\"102,17\"></path><path d=\"M 172.5 802.9 L 172.5 796.3 L 179.4 796.3\" id=\"101,16\"></path><path d=\"M 178.3 809.5 L 178.3 805.1 L 179.4 805.1\" id=\"100,15\"></path><path d=\"M 178.3 809.5 L 178.3 813.9 L 179.4 813.9\" id=\"100,14\"></path><path d=\"M 137.9 833.8 L 137.9 822.8 L 179.4 822.8\" id=\"142,13\"></path><path d=\"M 158.0 836.0 L 158.0 831.6 L 179.4 831.6\" id=\"114,12\"></path><path d=\"M 158.0 836.0 L 158.0 840.5 L 179.4 840.5\" id=\"114,11\"></path><path d=\"M 177.8 853.7 L 177.8 849.3 L 179.4 849.3\" id=\"113,10\"></path><path d=\"M 177.8 853.7 L 177.8 858.2 L 179.4 858.2\" id=\"113,9\"></path><path d=\"M 158.9 871.4 L 158.9 867.0 L 179.4 867.0\" id=\"125,8\"></path><path d=\"M 158.9 871.4 L 158.9 875.8 L 179.4 875.8\" id=\"125,7\"></path><path d=\"M 142.7 891.3 L 142.7 884.7 L 179.4 884.7\" id=\"112,6\"></path><path d=\"M 152.3 897.9 L 152.3 893.5 L 179.4 893.5\" id=\"106,5\"></path><path d=\"M 152.3 897.9 L 152.3 902.4 L 179.4 902.4\" id=\"106,4\"></path><path d=\"M 175.9 915.6 L 175.9 911.2 L 179.4 911.2\" id=\"105,3\"></path><path d=\"M 175.9 915.6 L 175.9 920.1 L 179.4 920.1\" id=\"105,2\"></path><path d=\"M 172.1 933.3 L 172.1 928.9 L 179.4 928.9\" id=\"104,1\"></path><path d=\"M 172.1 933.3 L 172.1 937.7 L 179.4 937.7\" id=\"104,0\"></path></g><g class=\"toytree-TipLabels\" style=\"fill:rgb(14.9%,14.9%,14.9%);fill-opacity:1.0;font-family:helvetica;font-size:11px;font-weight:normal;stroke:none;white-space:pre\"><g transform=\"translate(179.39,937.74)rotate(0)\"><text style=\"\" x=\"15.00\" y=\"2.81\">m83-2</text></g><g transform=\"translate(179.39,928.90)rotate(0)\"><text style=\"\" x=\"15.00\" y=\"2.81\">m83-1</text></g><g transform=\"translate(179.39,920.06)rotate(0)\"><text style=\"\" x=\"15.00\" y=\"2.81\">m90-2</text></g><g transform=\"translate(179.39,911.21)rotate(0)\"><text style=\"\" x=\"15.00\" y=\"2.81\">m90-1</text></g><g transform=\"translate(179.39,902.37)rotate(0)\"><text style=\"\" x=\"15.00\" y=\"2.81\">m46-2</text></g><g transform=\"translate(179.39,893.53)rotate(0)\"><text style=\"\" x=\"15.00\" y=\"2.81\">m46-1</text></g><g transform=\"translate(179.39,884.68)rotate(0)\"><text style=\"\" x=\"15.00\" y=\"2.81\">m32-2</text></g><g transform=\"translate(179.39,875.84)rotate(0)\"><text style=\"\" x=\"15.00\" y=\"2.81\">m56-2</text></g><g transform=\"translate(179.39,867.00)rotate(0)\"><text style=\"\" x=\"15.00\" y=\"2.81\">m56-1</text></g><g transform=\"translate(179.39,858.15)rotate(0)\"><text style=\"\" x=\"15.00\" y=\"2.81\">m95-2</text></g><g transform=\"translate(179.39,849.31)rotate(0)\"><text style=\"\" x=\"15.00\" y=\"2.81\">m95-1</text></g><g transform=\"translate(179.39,840.47)rotate(0)\"><text style=\"\" x=\"15.00\" y=\"2.81\">m55-2</text></g><g transform=\"translate(179.39,831.62)rotate(0)\"><text style=\"\" x=\"15.00\" y=\"2.81\">m55-1</text></g><g transform=\"translate(179.39,822.78)rotate(0)\"><text style=\"\" x=\"15.00\" y=\"2.81\">m29-2</text></g><g transform=\"translate(179.39,813.94)rotate(0)\"><text style=\"\" x=\"15.00\" y=\"2.81\">m98-2</text></g><g transform=\"translate(179.39,805.09)rotate(0)\"><text style=\"\" x=\"15.00\" y=\"2.81\">m98-1</text></g><g transform=\"translate(179.39,796.25)rotate(0)\"><text style=\"\" x=\"15.00\" y=\"2.81\">m84-2</text></g><g transform=\"translate(179.39,787.41)rotate(0)\"><text style=\"\" x=\"15.00\" y=\"2.81\">m93-2</text></g><g transform=\"translate(179.39,778.56)rotate(0)\"><text style=\"\" x=\"15.00\" y=\"2.81\">m93-1</text></g><g transform=\"translate(179.39,769.72)rotate(0)\"><text style=\"\" x=\"15.00\" y=\"2.81\">m44-1</text></g><g transform=\"translate(179.39,760.88)rotate(0)\"><text style=\"\" x=\"15.00\" y=\"2.81\">m58-2</text></g><g transform=\"translate(179.39,752.03)rotate(0)\"><text style=\"\" x=\"15.00\" y=\"2.81\">m58-1</text></g><g transform=\"translate(179.39,743.19)rotate(0)\"><text style=\"\" x=\"15.00\" y=\"2.81\">m33-2</text></g><g transform=\"translate(179.39,734.35)rotate(0)\"><text style=\"\" x=\"15.00\" y=\"2.81\">m33-1</text></g><g transform=\"translate(179.39,725.50)rotate(0)\"><text style=\"\" x=\"15.00\" y=\"2.81\">m68-2</text></g><g transform=\"translate(179.39,716.66)rotate(0)\"><text style=\"\" x=\"15.00\" y=\"2.81\">m68-1</text></g><g transform=\"translate(179.39,707.82)rotate(0)\"><text style=\"\" x=\"15.00\" y=\"2.81\">m30-1</text></g><g transform=\"translate(179.39,698.97)rotate(0)\"><text style=\"\" x=\"15.00\" y=\"2.81\">m62-2</text></g><g transform=\"translate(179.39,690.13)rotate(0)\"><text style=\"\" x=\"15.00\" y=\"2.81\">m62-1</text></g><g transform=\"translate(179.39,681.29)rotate(0)\"><text style=\"\" x=\"15.00\" y=\"2.81\">m57-1</text></g><g transform=\"translate(179.39,672.44)rotate(0)\"><text style=\"\" x=\"15.00\" y=\"2.81\">m49-1</text></g><g transform=\"translate(179.39,663.60)rotate(0)\"><text style=\"\" x=\"15.00\" y=\"2.81\">m48-2</text></g><g transform=\"translate(179.39,654.76)rotate(0)\"><text style=\"\" x=\"15.00\" y=\"2.81\">m48-1</text></g><g transform=\"translate(179.39,645.91)rotate(0)\"><text style=\"\" x=\"15.00\" y=\"2.81\">m101-2</text></g><g transform=\"translate(179.39,637.07)rotate(0)\"><text style=\"\" x=\"15.00\" y=\"2.81\">m101-1</text></g><g transform=\"translate(179.39,628.23)rotate(0)\"><text style=\"\" x=\"15.00\" y=\"2.81\">m100-1</text></g><g transform=\"translate(179.39,619.38)rotate(0)\"><text style=\"\" x=\"15.00\" y=\"2.81\">m88-1</text></g><g transform=\"translate(179.39,610.54)rotate(0)\"><text style=\"\" x=\"15.00\" y=\"2.81\">m70-2</text></g><g transform=\"translate(179.39,601.70)rotate(0)\"><text style=\"\" x=\"15.00\" y=\"2.81\">m70-1</text></g><g transform=\"translate(179.39,592.85)rotate(0)\"><text style=\"\" x=\"15.00\" y=\"2.81\">m51-2</text></g><g transform=\"translate(179.39,584.01)rotate(0)\"><text style=\"\" x=\"15.00\" y=\"2.81\">m61-2</text></g><g transform=\"translate(179.39,575.17)rotate(0)\"><text style=\"\" x=\"15.00\" y=\"2.81\">m61-1</text></g><g transform=\"translate(179.39,566.32)rotate(0)\"><text style=\"\" x=\"15.00\" y=\"2.81\">m81-2</text></g><g transform=\"translate(179.39,557.48)rotate(0)\"><text style=\"\" x=\"15.00\" y=\"2.81\">m81-1</text></g><g transform=\"translate(179.39,548.64)rotate(0)\"><text style=\"\" x=\"15.00\" y=\"2.81\">m78-2</text></g><g transform=\"translate(179.39,539.79)rotate(0)\"><text style=\"\" x=\"15.00\" y=\"2.81\">m78-1</text></g><g transform=\"translate(179.39,530.95)rotate(0)\"><text style=\"\" x=\"15.00\" y=\"2.81\">m66-1</text></g><g transform=\"translate(179.39,522.11)rotate(0)\"><text style=\"\" x=\"15.00\" y=\"2.81\">m64-1</text></g><g transform=\"translate(179.39,513.26)rotate(0)\"><text style=\"\" x=\"15.00\" y=\"2.81\">m63-1</text></g><g transform=\"translate(179.39,504.42)rotate(0)\"><text style=\"\" x=\"15.00\" y=\"2.81\">m60-1</text></g><g transform=\"translate(179.39,495.58)rotate(0)\"><text style=\"\" x=\"15.00\" y=\"2.81\">m26-2</text></g><g transform=\"translate(179.39,486.74)rotate(0)\"><text style=\"\" x=\"15.00\" y=\"2.81\">m26-1</text></g><g transform=\"translate(179.39,477.89)rotate(0)\"><text style=\"\" x=\"15.00\" y=\"2.81\">m59-2</text></g><g transform=\"translate(179.39,469.05)rotate(0)\"><text style=\"\" x=\"15.00\" y=\"2.81\">m59-1</text></g><g transform=\"translate(179.39,460.21)rotate(0)\"><text style=\"\" x=\"15.00\" y=\"2.81\">m37-2</text></g><g transform=\"translate(179.39,451.36)rotate(0)\"><text style=\"\" x=\"15.00\" y=\"2.81\">m65-2</text></g><g transform=\"translate(179.39,442.52)rotate(0)\"><text style=\"\" x=\"15.00\" y=\"2.81\">m65-1</text></g><g transform=\"translate(179.39,433.68)rotate(0)\"><text style=\"\" x=\"15.00\" y=\"2.81\">m96-2</text></g><g transform=\"translate(179.39,424.83)rotate(0)\"><text style=\"\" x=\"15.00\" y=\"2.81\">m96-1</text></g><g transform=\"translate(179.39,415.99)rotate(0)\"><text style=\"\" x=\"15.00\" y=\"2.81\">m92-2</text></g><g transform=\"translate(179.39,407.15)rotate(0)\"><text style=\"\" x=\"15.00\" y=\"2.81\">m89-1</text></g><g transform=\"translate(179.39,398.30)rotate(0)\"><text style=\"\" x=\"15.00\" y=\"2.81\">m94-2</text></g><g transform=\"translate(179.39,389.46)rotate(0)\"><text style=\"\" x=\"15.00\" y=\"2.81\">m94-1</text></g><g transform=\"translate(179.39,380.62)rotate(0)\"><text style=\"\" x=\"15.00\" y=\"2.81\">m50-2</text></g><g transform=\"translate(179.39,371.77)rotate(0)\"><text style=\"\" x=\"15.00\" y=\"2.81\">m40-2</text></g><g transform=\"translate(179.39,362.93)rotate(0)\"><text style=\"\" x=\"15.00\" y=\"2.81\">m40-1</text></g><g transform=\"translate(179.39,354.09)rotate(0)\"><text style=\"\" x=\"15.00\" y=\"2.81\">m35-2</text></g><g transform=\"translate(179.39,345.24)rotate(0)\"><text style=\"\" x=\"15.00\" y=\"2.81\">m85-2</text></g><g transform=\"translate(179.39,336.40)rotate(0)\"><text style=\"\" x=\"15.00\" y=\"2.81\">m85-1</text></g><g transform=\"translate(179.39,327.56)rotate(0)\"><text style=\"\" x=\"15.00\" y=\"2.81\">m86-2</text></g><g transform=\"translate(179.39,318.71)rotate(0)\"><text style=\"\" x=\"15.00\" y=\"2.81\">m86-1</text></g><g transform=\"translate(179.39,309.87)rotate(0)\"><text style=\"\" x=\"15.00\" y=\"2.81\">m79-2</text></g><g transform=\"translate(179.39,301.03)rotate(0)\"><text style=\"\" x=\"15.00\" y=\"2.81\">m79-1</text></g><g transform=\"translate(179.39,292.18)rotate(0)\"><text style=\"\" x=\"15.00\" y=\"2.81\">m41-2</text></g><g transform=\"translate(179.39,283.34)rotate(0)\"><text style=\"\" x=\"15.00\" y=\"2.81\">m99-2</text></g><g transform=\"translate(179.39,274.50)rotate(0)\"><text style=\"\" x=\"15.00\" y=\"2.81\">m99-1</text></g><g transform=\"translate(179.39,265.65)rotate(0)\"><text style=\"\" x=\"15.00\" y=\"2.81\">m54-2</text></g><g transform=\"translate(179.39,256.81)rotate(0)\"><text style=\"\" x=\"15.00\" y=\"2.81\">m67-2</text></g><g transform=\"translate(179.39,247.97)rotate(0)\"><text style=\"\" x=\"15.00\" y=\"2.81\">m67-1</text></g><g transform=\"translate(179.39,239.12)rotate(0)\"><text style=\"\" x=\"15.00\" y=\"2.81\">m47-1</text></g><g transform=\"translate(179.39,230.28)rotate(0)\"><text style=\"\" x=\"15.00\" y=\"2.81\">m43-1</text></g><g transform=\"translate(179.39,221.44)rotate(0)\"><text style=\"\" x=\"15.00\" y=\"2.81\">m97-2</text></g><g transform=\"translate(179.39,212.59)rotate(0)\"><text style=\"\" x=\"15.00\" y=\"2.81\">m97-1</text></g><g transform=\"translate(179.39,203.75)rotate(0)\"><text style=\"\" x=\"15.00\" y=\"2.81\">m87-1</text></g><g transform=\"translate(179.39,194.91)rotate(0)\"><text style=\"\" x=\"15.00\" y=\"2.81\">m73-1</text></g><g transform=\"translate(179.39,186.06)rotate(0)\"><text style=\"\" x=\"15.00\" y=\"2.81\">m82-2</text></g><g transform=\"translate(179.39,177.22)rotate(0)\"><text style=\"\" x=\"15.00\" y=\"2.81\">m82-1</text></g><g transform=\"translate(179.39,168.38)rotate(0)\"><text style=\"\" x=\"15.00\" y=\"2.81\">m74-2</text></g><g transform=\"translate(179.39,159.53)rotate(0)\"><text style=\"\" x=\"15.00\" y=\"2.81\">m74-1</text></g><g transform=\"translate(179.39,150.69)rotate(0)\"><text style=\"\" x=\"15.00\" y=\"2.81\">m36-2</text></g><g transform=\"translate(179.39,141.85)rotate(0)\"><text style=\"\" x=\"15.00\" y=\"2.81\">m69-2</text></g><g transform=\"translate(179.39,133.00)rotate(0)\"><text style=\"\" x=\"15.00\" y=\"2.81\">m69-1</text></g><g transform=\"translate(179.39,124.16)rotate(0)\"><text style=\"\" x=\"15.00\" y=\"2.81\">m91-2</text></g><g transform=\"translate(179.39,115.32)rotate(0)\"><text style=\"\" x=\"15.00\" y=\"2.81\">m91-1</text></g><g transform=\"translate(179.39,106.47)rotate(0)\"><text style=\"\" x=\"15.00\" y=\"2.81\">m80-1</text></g><g transform=\"translate(179.39,97.63)rotate(0)\"><text style=\"\" x=\"15.00\" y=\"2.81\">m76-1</text></g><g transform=\"translate(179.39,88.79)rotate(0)\"><text style=\"\" x=\"15.00\" y=\"2.81\">m45-1</text></g><g transform=\"translate(179.39,79.94)rotate(0)\"><text style=\"\" x=\"15.00\" y=\"2.81\">m77-2</text></g><g transform=\"translate(179.39,71.10)rotate(0)\"><text style=\"\" x=\"15.00\" y=\"2.81\">m77-1</text></g><g transform=\"translate(179.39,62.26)rotate(0)\"><text style=\"\" x=\"15.00\" y=\"2.81\">m16-2</text></g></g></g></g></g></svg><div class=\"toyplot-behavior\"><script>(function()\n",
       "{\n",
       "var modules={};\n",
       "})();</script></div></div>"
      ]
     },
     "metadata": {},
     "output_type": "display_data"
    }
   ],
   "source": [
    "tre.draw()"
   ]
  },
  {
   "cell_type": "code",
   "execution_count": 344,
   "id": "9ae1d3f6",
   "metadata": {},
   "outputs": [
    {
     "data": {
      "text/plain": [
       "array(['', '', '', '', '', '', '', '', '', '', '', '', '', '', '', '', '',\n",
       "       '', '', '', '', '', '', '', '', '', '', '', '', '', '', '', '', '',\n",
       "       '', '', '', '', '', '', '', '', '', '', '', '', '', '', '', '', '',\n",
       "       '', '', '', '', '', '', '', '', '', '', '', '', '', '', '', '', '',\n",
       "       '', '', '', '', '', '', '', '', '', '', '', '', '', '', '', '', '',\n",
       "       '', '', '', '', '', '', '', '', '', '', '', '', '', '', '1098',\n",
       "       '6253', '608', '7', '76', '23', '4', '7', '152', '279', '80', '10',\n",
       "       '16', '8', '7', '11', '15', '9', '2', '837', '95', '75', '1047',\n",
       "       '20', '149', '71', '1882', '927', '1978', '2163', '211', '3', '2',\n",
       "       '4', '2', '4', '17', '6', '14', '259', '5', '28', '19', '3148',\n",
       "       '1581', '1196', '17', '23', '3560', '221', '104', '11', '3', '3',\n",
       "       '2', '3', '27', '5', '28', '38', '47', '11', '49', '301', '280',\n",
       "       '172', '113', '167', '106', '108', '5', '2', '9', '5001', '425',\n",
       "       '1606', '119', '479', '2634', '2766', '372', '129', '35', '96',\n",
       "       '35', '52', '744', '86', '7', '227', '677', '5829', '327', '102',\n",
       "       '38', '7', '24', '89', '18', '32'], dtype='<U21')"
      ]
     },
     "execution_count": 344,
     "metadata": {},
     "output_type": "execute_result"
    }
   ],
   "source": [
    "tre = model.m.tre.copy()\n",
    "tre.get_node_values(\"Ne\", show_tips=True, show_root=True)"
   ]
  },
  {
   "cell_type": "code",
   "execution_count": null,
   "id": "2fb5bdcd",
   "metadata": {},
   "outputs": [],
   "source": [
    "# Fail to do it with msprime"
   ]
  },
  {
   "cell_type": "code",
   "execution_count": 74,
   "id": "d651ac2c",
   "metadata": {
    "scrolled": true
   },
   "outputs": [
    {
     "name": "stdout",
     "output_type": "stream",
     "text": [
      "((((((m19_1:0.106641,m19_2:0.106641)m16_1:0.162458,(m18_1:0.172384,m18_2:0.172384)m16_2:0.0967155)m5_1:0.828714,(((m13_1:0.466472,m13_2:0.466472)m12_1:0.0375935,m12_2:0.504066)m10_1:0.164999,m10_2:0.669065)m5_2:0.428749)m4_1:0.150796,(m8_1:0.836438,m8_2:0.836438)m4_2:0.412172)m3_1:0.460207,(m6_1:1.05618,(m7_1:0.908385,(m17_1:0.198928,m17_2:0.198928)m7_2:0.709456)m6_2:0.147797)m3_2:0.652635)m1_1:1.77492,(((m15_1:0.296651,m15_2:0.296651)m11_1:0.329445,m11_2:0.626096)m2_1:2.1891,((m14_1:0.308045,m14_2:0.308045)m9_1:0.491889,m9_2:0.799934)m2_2:2.01526)m1_2:0.668539);\n"
     ]
    }
   ],
   "source": [
    "import msprime\n",
    "\n",
    "tre = model.m.tre.write(tree_format=1)\n",
    "tre = tre.replace(\"-\", \"_\")\n",
    "print(tre)\n",
    "d = msprime.Demography.from_species_tree(tre, time_units=\"myr\", generation_time=1000000000, initial_size=1e4)"
   ]
  },
  {
   "cell_type": "code",
   "execution_count": 81,
   "id": "1a5791bc",
   "metadata": {},
   "outputs": [
    {
     "data": {
      "text/html": [
       "\n",
       "            <div>\n",
       "              <style>\n",
       "                .tskit-table thead tr th {text-align: left;padding: 0.5em 0.5em;}\n",
       "                .tskit-table tbody tr td {padding: 0.5em 0.5em;}\n",
       "                .tskit-table tbody tr td:first-of-type {text-align: left;}\n",
       "                .tskit-details-label {vertical-align: top; padding-right:5px;}\n",
       "                .tskit-table-set {display: inline-flex;flex-wrap: wrap;margin: -12px 0 0 -12px;width: calc(100% + 12px);}\n",
       "                .tskit-table-set-table {margin: 12px 0 0 12px;}\n",
       "                details {display: inline-block;}\n",
       "                summary {cursor: pointer; outline: 0; display: list-item;}\n",
       "              </style>\n",
       "              <div class=\"tskit-table-set\">\n",
       "                <div class=\"tskit-table-set-table\">\n",
       "                  <table class=\"tskit-table\">\n",
       "                    <thead>\n",
       "                      <tr>\n",
       "                        <th style=\"padding:0;line-height:21px;\">\n",
       "                          <img style=\"height: 32px;display: inline-block;padding: 3px 5px 3px 0;\" src=\"https://raw.githubusercontent.com/tskit-dev/administrative/main/tskit_logo.svg\"/>\n",
       "                          <a target=\"_blank\" href=\"https://tskit.dev/tskit/docs/latest/python-api.html#the-treesequence-class\"> Tree Sequence </a>\n",
       "                        </th>\n",
       "                      </tr>\n",
       "                    </thead>\n",
       "                    <tbody>\n",
       "                      <tr><td>Trees</td><td>1</td></tr>\n",
       "                      <tr><td>Sequence Length</td><td>1.0</td></tr>\n",
       "                      <tr><td>Time Units</td><td>generations</td></tr>\n",
       "                      <tr><td>Sample Nodes</td><td>200</td></tr>\n",
       "                      <tr><td>Total Size</td><td>57.0 KiB</td></tr>\n",
       "                      <tr>\n",
       "                        <td>Metadata</td><td style=\"text-align: left;\">No Metadata</td></tr>\n",
       "                    </tbody>\n",
       "                  </table>\n",
       "                </div>\n",
       "                <div class=\"tskit-table-set-table\">\n",
       "                  <table class=\"tskit-table\">\n",
       "                    <thead>\n",
       "                      <tr>\n",
       "                        <th style=\"line-height:21px;\">Table</th>\n",
       "                        <th>Rows</th>\n",
       "                        <th>Size</th>\n",
       "                        <th>Has Metadata</th>\n",
       "                      </tr>\n",
       "                    </thead>\n",
       "                    <tbody>\n",
       "                    \n",
       "                  <tr>\n",
       "                    <td>Edges</td>\n",
       "                      <td>398</td>\n",
       "                      <td>12.4 KiB</td>\n",
       "                      <td style=\"text-align: center;\">\n",
       "                        \n",
       "                      </td>\n",
       "                    </tr>\n",
       "                \n",
       "                  <tr>\n",
       "                    <td>Individuals</td>\n",
       "                      <td>100</td>\n",
       "                      <td>2.8 KiB</td>\n",
       "                      <td style=\"text-align: center;\">\n",
       "                        \n",
       "                      </td>\n",
       "                    </tr>\n",
       "                \n",
       "                  <tr>\n",
       "                    <td>Migrations</td>\n",
       "                      <td>0</td>\n",
       "                      <td>8 Bytes</td>\n",
       "                      <td style=\"text-align: center;\">\n",
       "                        \n",
       "                      </td>\n",
       "                    </tr>\n",
       "                \n",
       "                  <tr>\n",
       "                    <td>Mutations</td>\n",
       "                      <td>224</td>\n",
       "                      <td>8.1 KiB</td>\n",
       "                      <td style=\"text-align: center;\">\n",
       "                        \n",
       "                      </td>\n",
       "                    </tr>\n",
       "                \n",
       "                  <tr>\n",
       "                    <td>Nodes</td>\n",
       "                      <td>399</td>\n",
       "                      <td>10.9 KiB</td>\n",
       "                      <td style=\"text-align: center;\">\n",
       "                        \n",
       "                      </td>\n",
       "                    </tr>\n",
       "                \n",
       "                  <tr>\n",
       "                    <td>Populations</td>\n",
       "                      <td>39</td>\n",
       "                      <td>1.7 KiB</td>\n",
       "                      <td style=\"text-align: center;\">\n",
       "                        ✅\n",
       "                      </td>\n",
       "                    </tr>\n",
       "                \n",
       "                  <tr>\n",
       "                    <td>Provenances</td>\n",
       "                      <td>2</td>\n",
       "                      <td>17.8 KiB</td>\n",
       "                      <td style=\"text-align: center;\">\n",
       "                        \n",
       "                      </td>\n",
       "                    </tr>\n",
       "                \n",
       "                  <tr>\n",
       "                    <td>Sites</td>\n",
       "                      <td>1</td>\n",
       "                      <td>41 Bytes</td>\n",
       "                      <td style=\"text-align: center;\">\n",
       "                        \n",
       "                      </td>\n",
       "                    </tr>\n",
       "                \n",
       "                    </tbody>\n",
       "                  </table>\n",
       "                </div>\n",
       "              </div>\n",
       "            </div>\n",
       "            "
      ],
      "text/plain": [
       "<tskit.trees.TreeSequence at 0x7fa8dafa1890>"
      ]
     },
     "execution_count": 81,
     "metadata": {},
     "output_type": "execute_result"
    }
   ],
   "source": [
    "samps = {x.replace(\"-\", \"_\"):5 for x in model.m.tre.get_tip_labels()}\n",
    "ts = msprime.sim_ancestry(samples=samps, demography=d, random_seed=12)\n",
    "tsm = msprime.sim_mutations(ts, rate=1e-3)\n",
    "tsm"
   ]
  }
 ],
 "metadata": {
  "kernelspec": {
   "display_name": "Python 3 (ipykernel)",
   "language": "python",
   "name": "python3"
  },
  "language_info": {
   "codemirror_mode": {
    "name": "ipython",
    "version": 3
   },
   "file_extension": ".py",
   "mimetype": "text/x-python",
   "name": "python",
   "nbconvert_exporter": "python",
   "pygments_lexer": "ipython3",
   "version": "3.7.12"
  }
 },
 "nbformat": 4,
 "nbformat_minor": 5
}
